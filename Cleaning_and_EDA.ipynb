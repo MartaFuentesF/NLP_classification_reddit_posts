{
 "cells": [
  {
   "cell_type": "markdown",
   "id": "aae8e7db-b55a-4c68-89b0-5bd644715940",
   "metadata": {},
   "source": [
    "# Project 3: Data Cleaning and EDA"
   ]
  },
  {
   "cell_type": "markdown",
   "id": "8143f394-2c44-4bbf-9a46-14a4e0563ead",
   "metadata": {},
   "source": [
    "Using the data obtained in the API notebook, I will create a single data frame to use in creating a classification using Natural Language Processing. "
   ]
  },
  {
   "cell_type": "code",
   "execution_count": 1,
   "id": "73bd91c6-5767-48a2-9cc1-600fcbd22fe3",
   "metadata": {},
   "outputs": [],
   "source": [
    "import pandas as pd"
   ]
  },
  {
   "cell_type": "code",
   "execution_count": 7,
   "id": "580c562b-f460-466b-9d7f-86cdaa8f0585",
   "metadata": {},
   "outputs": [],
   "source": [
    "df0 = pd.read_csv('../project-3/Data/df04-250.csv')\n",
    "df1 = pd.read_csv('../project-3/Data/df04-251.csv')\n",
    "df2 = pd.read_csv('../project-3/Data/df04-252.csv')\n",
    "df3 = pd.read_csv('../project-3/Data/df04-253.csv')\n",
    "df4 = pd.read_csv('../project-3/Data/df04-254.csv')\n",
    "df5 = pd.read_csv('../project-3/Data/df04-255.csv')\n",
    "df6 = pd.read_csv('../project-3/Data/df04-256.csv')\n",
    "df7 = pd.read_csv('../project-3/Data/df04-257.csv')\n",
    "df8 = pd.read_csv('../project-3/Data/df04-258.csv')\n",
    "df9 = pd.read_csv('../project-3/Data/df04-259.csv')"
   ]
  },
  {
   "cell_type": "code",
   "execution_count": 9,
   "id": "d82cb212-e9f7-4b65-99d5-49c209428aa7",
   "metadata": {},
   "outputs": [],
   "source": [
    "posts = pd.concat([df0, df1, df2, df3, df4, df5, df6, df7, df8, df9], ignore_index = True)"
   ]
  },
  {
   "cell_type": "code",
   "execution_count": 20,
   "id": "2642724d-23e5-4870-8e36-cd9b7270b8db",
   "metadata": {},
   "outputs": [
    {
     "data": {
      "text/html": [
       "<div>\n",
       "<style scoped>\n",
       "    .dataframe tbody tr th:only-of-type {\n",
       "        vertical-align: middle;\n",
       "    }\n",
       "\n",
       "    .dataframe tbody tr th {\n",
       "        vertical-align: top;\n",
       "    }\n",
       "\n",
       "    .dataframe thead th {\n",
       "        text-align: right;\n",
       "    }\n",
       "</style>\n",
       "<table border=\"1\" class=\"dataframe\">\n",
       "  <thead>\n",
       "    <tr style=\"text-align: right;\">\n",
       "      <th></th>\n",
       "      <th>title</th>\n",
       "      <th>post</th>\n",
       "      <th>source</th>\n",
       "    </tr>\n",
       "  </thead>\n",
       "  <tbody>\n",
       "    <tr>\n",
       "      <th>0</th>\n",
       "      <td>AITA Monthly Open Forum April 2024: Rule 10</td>\n",
       "      <td>Continuing our deep dive into the rules of the...</td>\n",
       "      <td>AmItheAsshole</td>\n",
       "    </tr>\n",
       "    <tr>\n",
       "      <th>1</th>\n",
       "      <td>AITA for telling my brother and sister-in-law ...</td>\n",
       "      <td>My brother Ian and my sister-in-law Cheyenne h...</td>\n",
       "      <td>AmItheAsshole</td>\n",
       "    </tr>\n",
       "    <tr>\n",
       "      <th>2</th>\n",
       "      <td>AITA for refusing to cook for my wife's pregna...</td>\n",
       "      <td>I've (31m) been married to my wife Sage (30f) ...</td>\n",
       "      <td>AmItheAsshole</td>\n",
       "    </tr>\n",
       "    <tr>\n",
       "      <th>3</th>\n",
       "      <td>UPDATE: AITA is told my husband to stop suppor...</td>\n",
       "      <td>\\nHello everyone!\\n\\nIve shown this to my husb...</td>\n",
       "      <td>AmItheAsshole</td>\n",
       "    </tr>\n",
       "    <tr>\n",
       "      <th>4</th>\n",
       "      <td>AITA? Choosing Daughter over Husband?</td>\n",
       "      <td>My husband (m,64) and I (f,65) have been marri...</td>\n",
       "      <td>AmItheAsshole</td>\n",
       "    </tr>\n",
       "  </tbody>\n",
       "</table>\n",
       "</div>"
      ],
      "text/plain": [
       "                                               title  \\\n",
       "0        AITA Monthly Open Forum April 2024: Rule 10   \n",
       "1  AITA for telling my brother and sister-in-law ...   \n",
       "2  AITA for refusing to cook for my wife's pregna...   \n",
       "3  UPDATE: AITA is told my husband to stop suppor...   \n",
       "4              AITA? Choosing Daughter over Husband?   \n",
       "\n",
       "                                                post         source  \n",
       "0  Continuing our deep dive into the rules of the...  AmItheAsshole  \n",
       "1  My brother Ian and my sister-in-law Cheyenne h...  AmItheAsshole  \n",
       "2  I've (31m) been married to my wife Sage (30f) ...  AmItheAsshole  \n",
       "3  \\nHello everyone!\\n\\nIve shown this to my husb...  AmItheAsshole  \n",
       "4  My husband (m,64) and I (f,65) have been marri...  AmItheAsshole  "
      ]
     },
     "execution_count": 20,
     "metadata": {},
     "output_type": "execute_result"
    }
   ],
   "source": [
    "posts.head()"
   ]
  },
  {
   "cell_type": "code",
   "execution_count": 12,
   "id": "2e5a32f3-d0ac-4145-bc16-e841bb6b4036",
   "metadata": {},
   "outputs": [
    {
     "data": {
      "text/plain": [
       "(905, 3)"
      ]
     },
     "execution_count": 12,
     "metadata": {},
     "output_type": "execute_result"
    }
   ],
   "source": [
    "posts.shape"
   ]
  },
  {
   "cell_type": "code",
   "execution_count": 13,
   "id": "7346d7be-d45d-4b19-8911-d10f2f5d84a4",
   "metadata": {},
   "outputs": [
    {
     "name": "stdout",
     "output_type": "stream",
     "text": [
      "<class 'pandas.core.frame.DataFrame'>\n",
      "RangeIndex: 905 entries, 0 to 904\n",
      "Data columns (total 3 columns):\n",
      " #   Column  Non-Null Count  Dtype \n",
      "---  ------  --------------  ----- \n",
      " 0   title   905 non-null    object\n",
      " 1   post    905 non-null    object\n",
      " 2   source  905 non-null    object\n",
      "dtypes: object(3)\n",
      "memory usage: 21.3+ KB\n"
     ]
    }
   ],
   "source": [
    "posts.info()"
   ]
  },
  {
   "cell_type": "code",
   "execution_count": 18,
   "id": "69584655-397b-41d5-8525-1036bcff1d3d",
   "metadata": {},
   "outputs": [
    {
     "data": {
      "text/plain": [
       "title     object\n",
       "post      object\n",
       "source    object\n",
       "dtype: object"
      ]
     },
     "execution_count": 18,
     "metadata": {},
     "output_type": "execute_result"
    }
   ],
   "source": [
    "posts.dtypes"
   ]
  },
  {
   "cell_type": "code",
   "execution_count": null,
   "id": "1c0f7881-e963-4025-b8c6-bc5a35ca7bb7",
   "metadata": {},
   "outputs": [],
   "source": []
  }
 ],
 "metadata": {
  "kernelspec": {
   "display_name": "Python 3 (ipykernel)",
   "language": "python",
   "name": "python3"
  },
  "language_info": {
   "codemirror_mode": {
    "name": "ipython",
    "version": 3
   },
   "file_extension": ".py",
   "mimetype": "text/x-python",
   "name": "python",
   "nbconvert_exporter": "python",
   "pygments_lexer": "ipython3",
   "version": "3.11.7"
  }
 },
 "nbformat": 4,
 "nbformat_minor": 5
}
