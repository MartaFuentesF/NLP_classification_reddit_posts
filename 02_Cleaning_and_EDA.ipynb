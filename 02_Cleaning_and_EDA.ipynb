{
 "cells": [
  {
   "cell_type": "markdown",
   "id": "aae8e7db-b55a-4c68-89b0-5bd644715940",
   "metadata": {},
   "source": [
    "# Project 3: Data Cleaning and EDA"
   ]
  },
  {
   "cell_type": "markdown",
   "id": "8143f394-2c44-4bbf-9a46-14a4e0563ead",
   "metadata": {},
   "source": [
    "Using the data obtained in the API notebook, I will create a single data frame to use in creating a classification using Natural Language Processing. "
   ]
  },
  {
   "cell_type": "code",
   "execution_count": 1,
   "id": "73bd91c6-5767-48a2-9cc1-600fcbd22fe3",
   "metadata": {},
   "outputs": [],
   "source": [
    "import pandas as pd\n",
    "import glob \n",
    "\n",
    "import matplotlib.pyplot as plt\n",
    "import pandas as pd\n",
    "import seaborn as sns\n",
    "import matplotlib.pyplot as plt\n",
    "import numpy as np\n",
    "import re\n",
    "from sklearn.feature_extraction.text import CountVectorizer\n",
    "\n",
    "# Import CountVectorizer and TFIDFVectorizer from feature_extraction.text.\n",
    "from sklearn.feature_extraction.text import CountVectorizer, TfidfVectorizer\n",
    "\n",
    "\n",
    "from nltk.tokenize import word_tokenize\n",
    "from nltk.stem import WordNetLemmatizer\n",
    "import nltk\n",
    "\n",
    "# this setting widens how many characters pandas will display in a column:\n",
    "pd.options.display.max_colwidth = 400\n"
   ]
  },
  {
   "cell_type": "code",
   "execution_count": 2,
   "id": "b85bb5ed-8862-4f74-a88f-2b13a9f7e762",
   "metadata": {},
   "outputs": [],
   "source": [
    "# Argo helped me with the library, 'glob'. Glob lets you define a folder as a variable\n",
    "\n",
    "files = glob.glob('../project-3/Data/*.csv') # * is the thing that is different, the files variable is not a list, but it is a 'list' of files... like a folder.\n",
    "\n",
    "list = []\n",
    "\n",
    "for file in files:\n",
    "    list.append(pd.read_csv(file))\n",
    "\n",
    "posts = pd.concat(list)"
   ]
  },
  {
   "cell_type": "markdown",
   "id": "75fbed76-780c-4796-a64a-a947aa1c5682",
   "metadata": {},
   "source": [
    "### Getting to know the data"
   ]
  },
  {
   "cell_type": "code",
   "execution_count": 3,
   "id": "aa25fb4b-d507-4c01-b350-77fc314ecd64",
   "metadata": {},
   "outputs": [
    {
     "name": "stdout",
     "output_type": "stream",
     "text": [
      "\u001b[1mDimensions before removing duplicates:\u001b[0m \n",
      "\n",
      "(9413, 3)\n",
      "============================== \n",
      "\n",
      "\u001b[1mInformation before removing duplicates:\u001b[0m \n",
      "\n",
      "<class 'pandas.core.frame.DataFrame'>\n",
      "Index: 9413 entries, 0 to 99\n",
      "Data columns (total 3 columns):\n",
      " #   Column  Non-Null Count  Dtype \n",
      "---  ------  --------------  ----- \n",
      " 0   title   9413 non-null   object\n",
      " 1   post    9156 non-null   object\n",
      " 2   source  9413 non-null   object\n",
      "dtypes: object(3)\n",
      "memory usage: 294.2+ KB\n",
      "None\n",
      "============================== \n",
      "\n",
      "\u001b[1mdata types:\u001b[0m \n",
      "\n",
      "title     object\n",
      "post      object\n",
      "source    object\n",
      "dtype: object\n",
      "============================== \n",
      "\n",
      "\u001b[1mNull Values:\u001b[0m title       0\n",
      "post      257\n",
      "source      0\n",
      "dtype: int64 \n",
      "\n",
      "============================== \n",
      "\n",
      "\u001b[1mPost Value Counts before removing duplicates:\u001b[0m \n",
      "\n",
      "source\n",
      "AskLawyers       6611\n",
      "AmItheAsshole    2802\n",
      "Name: count, dtype: int64\n"
     ]
    }
   ],
   "source": [
    "# Looking into the posts dataframe\n",
    "print('\\033[1mDimensions before removing duplicates:\\033[0m', '\\n')\n",
    "print(posts.shape)\n",
    "print('='*30, '\\n')\n",
    "\n",
    "print('\\033[1mInformation before removing duplicates:\\033[0m', '\\n')\n",
    "print(posts.info())\n",
    "print('='*30, '\\n')\n",
    "\n",
    "print('\\033[1mdata types:\\033[0m', '\\n')\n",
    "print(posts.dtypes)\n",
    "print('='*30, '\\n')\n",
    "\n",
    "print(f'\\033[1mNull Values:\\033[0m {posts.isnull().sum()}','\\n')\n",
    "print('='*30, '\\n')\n",
    "\n",
    "print(f'\\033[1mPost Value Counts before removing duplicates:\\033[0m','\\n')\n",
    "print(posts['source'].value_counts())"
   ]
  },
  {
   "cell_type": "markdown",
   "id": "91830745-72bd-41a6-8e3d-4013893f70af",
   "metadata": {},
   "source": [
    "### Cleaning Imported Data"
   ]
  },
  {
   "cell_type": "code",
   "execution_count": 4,
   "id": "328c4a95-a4d5-4bdd-8721-279fe9985b68",
   "metadata": {},
   "outputs": [],
   "source": [
    "# citation: GA DSB lesson 6.04\n",
    "# noticed all titles had 'AITA' at the beginning\n",
    "posts['title'] = posts['title'].str.replace('AITA', '')\n",
    "\n",
    "# noticed titles with 'WIBTA' at the beginning\n",
    "posts['title'] = posts['title'].str.replace('WIBTA', '')\n",
    "\n",
    "# dropping duplicate posts \n",
    "posts.drop_duplicates(inplace = True)\n"
   ]
  },
  {
   "cell_type": "code",
   "execution_count": 5,
   "id": "e1422b98-0add-4f55-9ef1-dfbebffdc693",
   "metadata": {},
   "outputs": [
    {
     "name": "stdout",
     "output_type": "stream",
     "text": [
      "\u001b[1mDimensions after removing duplicates:\u001b[0m \n",
      "\n",
      "(2149, 3)\n",
      "============================== \n",
      "\n",
      "\u001b[1mInformation after removing duplicates:\u001b[0m \n",
      "\n",
      "<class 'pandas.core.frame.DataFrame'>\n",
      "Index: 2149 entries, 0 to 26\n",
      "Data columns (total 3 columns):\n",
      " #   Column  Non-Null Count  Dtype \n",
      "---  ------  --------------  ----- \n",
      " 0   title   2149 non-null   object\n",
      " 1   post    2128 non-null   object\n",
      " 2   source  2149 non-null   object\n",
      "dtypes: object(3)\n",
      "memory usage: 67.2+ KB\n",
      "None\n",
      "============================== \n",
      "\n",
      "\u001b[1mPosts Shape after removing duplicates:\u001b[0m (2149, 3) \n",
      "\n",
      "============================== \n",
      "\n",
      "\u001b[1mNull Values after removing duplicates:\u001b[0m title      0\n",
      "post      21\n",
      "source     0\n",
      "dtype: int64 \n",
      "\n",
      "============================== \n",
      "\n"
     ]
    }
   ],
   "source": [
    "# Looking into the posts dataframe after removing duplicates\n",
    "print('\\033[1mDimensions after removing duplicates:\\033[0m', '\\n')\n",
    "print(posts.shape)\n",
    "print('='*30, '\\n')\n",
    "\n",
    "print('\\033[1mInformation after removing duplicates:\\033[0m', '\\n')\n",
    "print(posts.info())\n",
    "print('='*30, '\\n')\n",
    "\n",
    "print(f'\\033[1mPosts Shape after removing duplicates:\\033[0m {posts.shape}','\\n')\n",
    "print('='*30, '\\n')\n",
    "\n",
    "print(f'\\033[1mNull Values after removing duplicates:\\033[0m {posts.isnull().sum()}','\\n')\n",
    "print('='*30, '\\n')\n",
    "\n"
   ]
  },
  {
   "cell_type": "markdown",
   "id": "958a8c43-50d0-4042-908a-6230b0fd296e",
   "metadata": {},
   "source": [
    "---\n",
    "## Filling Null Values\n",
    "There are 21 posts with missing content. To address this, I replaced the missing content with the post title, as it's a common practice in discussion forums to use the title as the post itself."
   ]
  },
  {
   "cell_type": "code",
   "execution_count": 6,
   "id": "d0c2c19f-88f1-4f8e-b618-c555ebe0be42",
   "metadata": {},
   "outputs": [
    {
     "data": {
      "text/plain": [
       "title      0\n",
       "post      21\n",
       "source     0\n",
       "dtype: int64"
      ]
     },
     "execution_count": 6,
     "metadata": {},
     "output_type": "execute_result"
    }
   ],
   "source": [
    "posts.isnull().sum()"
   ]
  },
  {
   "cell_type": "code",
   "execution_count": 7,
   "id": "16bdb626-1771-4f8c-9945-3f374032cac1",
   "metadata": {},
   "outputs": [
    {
     "data": {
      "text/plain": [
       "0"
      ]
     },
     "execution_count": 7,
     "metadata": {},
     "output_type": "execute_result"
    }
   ],
   "source": [
    "posts['post'] = posts['post'].fillna(posts['title'])\n",
    "posts['post'].isnull().sum()"
   ]
  },
  {
   "cell_type": "markdown",
   "id": "248512fd-6461-482e-b0e3-2c3086eadba4",
   "metadata": {},
   "source": [
    "---\n",
    "Saving the clean data frame, to use in the Modeling Notebook"
   ]
  },
  {
   "cell_type": "code",
   "execution_count": 8,
   "id": "251554e8-9a2f-4373-a30d-6d288c1fc731",
   "metadata": {},
   "outputs": [],
   "source": [
    "posts.to_csv('./Data/clean_posts', index = False)"
   ]
  },
  {
   "cell_type": "markdown",
   "id": "8fc12d30-c152-4d67-881d-66aa8727ba17",
   "metadata": {},
   "source": [
    "---\n",
    "### EDA & Data preparation for modeling"
   ]
  },
  {
   "cell_type": "markdown",
   "id": "29cfa490-9fd9-42c4-9072-10b5a7d69020",
   "metadata": {},
   "source": [
    "#### Binarizing the target column: 'source'\n",
    "**Note:** \"Am I the Asshole\" will be target class 1."
   ]
  },
  {
   "cell_type": "code",
   "execution_count": 9,
   "id": "d8f12dd2-0e88-4138-8efe-c3ae2a125b21",
   "metadata": {},
   "outputs": [],
   "source": [
    "posts['source'] = posts['source'].map({'AmItheAsshole': 1, 'AskLawyers' : 0})"
   ]
  },
  {
   "cell_type": "markdown",
   "id": "3a1e4b6a-dcb8-420b-bcb4-1761037f9f32",
   "metadata": {},
   "source": [
    "---\n",
    "#### New columns:\n",
    "post_length: the number of characters in a post\n",
    "\n",
    "post_word_count: the number of words in a post."
   ]
  },
  {
   "cell_type": "code",
   "execution_count": 10,
   "id": "964c7988-4482-4096-92cb-8ed4ddc309e9",
   "metadata": {},
   "outputs": [],
   "source": [
    "# number of characters in a post\n",
    "posts['post_length_char'] = [len(post) for post in posts['post']]\n",
    "\n",
    "# post_word_count uses spaces (' ') to count words\n",
    "posts['post_word_count'] = [len(post.split(' ')) for post in posts['post']]"
   ]
  },
  {
   "cell_type": "markdown",
   "id": "0fde0428-ac97-4b71-a337-c47e908b6c8e",
   "metadata": {},
   "source": [
    "---\n",
    "#### What are the longest and shortest posts?"
   ]
  },
  {
   "cell_type": "code",
   "execution_count": 11,
   "id": "564751bf-db43-495c-928d-7700f8de3d75",
   "metadata": {},
   "outputs": [],
   "source": [
    "# First, I will sort them by their word count\n",
    "posts = posts.sort_values(by = 'post_word_count', ascending = False)"
   ]
  },
  {
   "cell_type": "code",
   "execution_count": 12,
   "id": "4258f06f-1ef9-4fd1-a3ba-54ad5cb95126",
   "metadata": {
    "scrolled": true
   },
   "outputs": [
    {
     "name": "stdout",
     "output_type": "stream",
     "text": [
      "\u001b[1mThe ten longest posts are:\u001b[0m \n",
      "\n"
     ]
    },
    {
     "data": {
      "text/html": [
       "<div>\n",
       "<style scoped>\n",
       "    .dataframe tbody tr th:only-of-type {\n",
       "        vertical-align: middle;\n",
       "    }\n",
       "\n",
       "    .dataframe tbody tr th {\n",
       "        vertical-align: top;\n",
       "    }\n",
       "\n",
       "    .dataframe thead th {\n",
       "        text-align: right;\n",
       "    }\n",
       "</style>\n",
       "<table border=\"1\" class=\"dataframe\">\n",
       "  <thead>\n",
       "    <tr style=\"text-align: right;\">\n",
       "      <th></th>\n",
       "      <th>title</th>\n",
       "      <th>post</th>\n",
       "      <th>source</th>\n",
       "      <th>post_length_char</th>\n",
       "      <th>post_word_count</th>\n",
       "    </tr>\n",
       "  </thead>\n",
       "  <tbody>\n",
       "    <tr>\n",
       "      <th>29</th>\n",
       "      <td>[PA] Do I Have A Law Suit At Work?</td>\n",
       "      <td>\\nBackstory:\\n\\nI (23m) began working for a union labor paper mill in 2022. The first 6 months I was in the warehouse, nothing special happened, and then I got an internal position in a better department in the mill. I have been here since October of 2022. There are about 40 men in my department, and we are all split into 4 crews: A crew, B crew, C crew, and D crew. During my first 8 weeks in ...</td>\n",
       "      <td>0</td>\n",
       "      <td>9140</td>\n",
       "      <td>1693</td>\n",
       "    </tr>\n",
       "    <tr>\n",
       "      <th>25</th>\n",
       "      <td>[CA] Stolen Childhood Settlement</td>\n",
       "      <td>Stolen Childhood Settlement \\n\\nI was ran over as a child. Eight years old; almost every rib broken or cracked, lung punctured by my rib and I’m pretty sure I have breathing problems from the ensuing scar tissue that developed on my lung; concussion, liver bruised, both eye vessels popped and the whites of my eyes filled with blood. Was out of school for months. My mother sued and I very speci...</td>\n",
       "      <td>0</td>\n",
       "      <td>8465</td>\n",
       "      <td>1624</td>\n",
       "    </tr>\n",
       "    <tr>\n",
       "      <th>35</th>\n",
       "      <td>[CA] Case against Ford?</td>\n",
       "      <td>We bought a 2006 Ford E450 retired emergency relief vehicle when it had 48.5k miles. We converted it into an RV to travel and work around the US. Purchased, registered and insured in NY.\\n\\nTLDR at the bottom.\\n\\nIn June 2023, at 67.8k miles we had a fuel injector break off into the engine and had to replace the engine. We spent $21,119.17 to get a complete engine at a Portland, OR Ford with a...</td>\n",
       "      <td>0</td>\n",
       "      <td>7312</td>\n",
       "      <td>1342</td>\n",
       "    </tr>\n",
       "    <tr>\n",
       "      <th>18</th>\n",
       "      <td>[FL] Bullied for years at work until I recently refused to work with my bully. They've now put me on unpaid leave until I agree to work with him. I don't want to blow up my career by suing. Can anything be done?</td>\n",
       "      <td>I'm hesitant to reach out to a lawyer because I'm not sure what can be done, but as this has unfolded MANY people I work with have encouraged me to speak with someone because they feel our employers treatment of me has been so horrendous. \\n\\n  \\nI work in a hospital and I've worked at this hospital for over a decade. I have a great working relationship with everyone I interact with. I have ne...</td>\n",
       "      <td>0</td>\n",
       "      <td>7026</td>\n",
       "      <td>1297</td>\n",
       "    </tr>\n",
       "    <tr>\n",
       "      <th>75</th>\n",
       "      <td>for being mad my (F31) fiance (M31) secretly spent our small travel fund?</td>\n",
       "      <td>UPDATE: First of all, thank you all for the comments and the valuable insights. I tried to respond to everyone's questions and advice but it became impossible, what with hundreds of comments flooding in which is not something I expected so yes, thank you!\\n\\nI'm not sure this is how you do an update so I hope everyone who was interested in the update will be able to see this!\\n\\nFirst, let me ...</td>\n",
       "      <td>1</td>\n",
       "      <td>6479</td>\n",
       "      <td>1276</td>\n",
       "    </tr>\n",
       "    <tr>\n",
       "      <th>25</th>\n",
       "      <td>if I put a lien against my parents' house and sued them for my college tuition?</td>\n",
       "      <td>I, 17F, am graduating high school next month and am set to attend my first-choice college with a partial scholarship in the fall. It's an instate school about an hour away, and because of my dual enrollment credits, I should only be 5 semesters from finishing my bachelor's degree and then going for the master's degree I need for the career I want.\\n\\nFive years ago my Mamaw, (mom's mom) died, ...</td>\n",
       "      <td>1</td>\n",
       "      <td>6610</td>\n",
       "      <td>1262</td>\n",
       "    </tr>\n",
       "    <tr>\n",
       "      <th>85</th>\n",
       "      <td>[ID] Personal injury,Landlord Tenant or Both?</td>\n",
       "      <td># \\n\\nLegal aide has an advice line but it seems stuck in a loop. I cannot get past the recording to talk to an attorney and I need some advice so attorneys?\\n\\nI live in a complex that was built almost three years ago. I moved into my apartment one week after it was completed. I have an electric fireplace that I have never been able to use. When I complained about the smell-from the first tim...</td>\n",
       "      <td>0</td>\n",
       "      <td>5888</td>\n",
       "      <td>1090</td>\n",
       "    </tr>\n",
       "    <tr>\n",
       "      <th>46</th>\n",
       "      <td>[MN] How do I go about pressing charges against a person who was paid t my fix my car but didn't?</td>\n",
       "      <td>This is my first post on Reddit, so I'll try my best to get to the point without making it too long!🤦🏻‍♀️😂 This story takes place from January 24th-February 30th.\\n\\nA \"friend\", more like an acquaintance that we met through another friend, offered to fix our car (1-3 days tops) &amp;amp; he would accept getting paid in weekly increments as long as we made a large(ish) payment when we picked the ca...</td>\n",
       "      <td>0</td>\n",
       "      <td>5291</td>\n",
       "      <td>1050</td>\n",
       "    </tr>\n",
       "    <tr>\n",
       "      <th>39</th>\n",
       "      <td>for yelling at my 'family' for suddenly wanting me in their lives?</td>\n",
       "      <td>For some backstory, I (26F) am a product of my father's affair.\\n\\nMy three half siblings, Jacob (36M), Lily (32F), and Helen (30F) have never wanted anything to do with me, and at first my father didn't either.\\n\\nWhen I was around six, though, my mother died. Nobody wanted an affair baby, so I ended up living with my father and his family after all. I was treated differently, like a guest in...</td>\n",
       "      <td>1</td>\n",
       "      <td>5391</td>\n",
       "      <td>1011</td>\n",
       "    </tr>\n",
       "    <tr>\n",
       "      <th>48</th>\n",
       "      <td>for not getting upset or convince the bride after I was uninvited to my friend’s wedding?</td>\n",
       "      <td>This happened over the weekend but there’s still so much tension. \\n\\nOne of my good friends, Matthew (26M) is getting married next month to Jennifer (26F). I (25F) have known Matthew since high school. We’ve both connected when it came to video games, especially Minecraft. Matthew has had his fair share of girlfriends over the years but when he met Jennifer 3 years ago, he said that he knew s...</td>\n",
       "      <td>1</td>\n",
       "      <td>5234</td>\n",
       "      <td>1009</td>\n",
       "    </tr>\n",
       "  </tbody>\n",
       "</table>\n",
       "</div>"
      ],
      "text/plain": [
       "                                                                                                                                                                                                                  title  \\\n",
       "29                                                                                                                                                                                   [PA] Do I Have A Law Suit At Work?   \n",
       "25                                                                                                                                                                                    [CA] Stolen Childhood Settlement    \n",
       "35                                                                                                                                                                                              [CA] Case against Ford?   \n",
       "18  [FL] Bullied for years at work until I recently refused to work with my bully. They've now put me on unpaid leave until I agree to work with him. I don't want to blow up my career by suing. Can anything be done?   \n",
       "75                                                                                                                                            for being mad my (F31) fiance (M31) secretly spent our small travel fund?   \n",
       "25                                                                                                                                      if I put a lien against my parents' house and sued them for my college tuition?   \n",
       "85                                                                                                                                                                        [ID] Personal injury,Landlord Tenant or Both?   \n",
       "46                                                                                                                    [MN] How do I go about pressing charges against a person who was paid t my fix my car but didn't?   \n",
       "39                                                                                                                                                   for yelling at my 'family' for suddenly wanting me in their lives?   \n",
       "48                                                                                                                            for not getting upset or convince the bride after I was uninvited to my friend’s wedding?   \n",
       "\n",
       "                                                                                                                                                                                                                                                                                                                                                                                                               post  \\\n",
       "29  \\nBackstory:\\n\\nI (23m) began working for a union labor paper mill in 2022. The first 6 months I was in the warehouse, nothing special happened, and then I got an internal position in a better department in the mill. I have been here since October of 2022. There are about 40 men in my department, and we are all split into 4 crews: A crew, B crew, C crew, and D crew. During my first 8 weeks in ...   \n",
       "25  Stolen Childhood Settlement \\n\\nI was ran over as a child. Eight years old; almost every rib broken or cracked, lung punctured by my rib and I’m pretty sure I have breathing problems from the ensuing scar tissue that developed on my lung; concussion, liver bruised, both eye vessels popped and the whites of my eyes filled with blood. Was out of school for months. My mother sued and I very speci...   \n",
       "35  We bought a 2006 Ford E450 retired emergency relief vehicle when it had 48.5k miles. We converted it into an RV to travel and work around the US. Purchased, registered and insured in NY.\\n\\nTLDR at the bottom.\\n\\nIn June 2023, at 67.8k miles we had a fuel injector break off into the engine and had to replace the engine. We spent $21,119.17 to get a complete engine at a Portland, OR Ford with a...   \n",
       "18  I'm hesitant to reach out to a lawyer because I'm not sure what can be done, but as this has unfolded MANY people I work with have encouraged me to speak with someone because they feel our employers treatment of me has been so horrendous. \\n\\n  \\nI work in a hospital and I've worked at this hospital for over a decade. I have a great working relationship with everyone I interact with. I have ne...   \n",
       "75  UPDATE: First of all, thank you all for the comments and the valuable insights. I tried to respond to everyone's questions and advice but it became impossible, what with hundreds of comments flooding in which is not something I expected so yes, thank you!\\n\\nI'm not sure this is how you do an update so I hope everyone who was interested in the update will be able to see this!\\n\\nFirst, let me ...   \n",
       "25  I, 17F, am graduating high school next month and am set to attend my first-choice college with a partial scholarship in the fall. It's an instate school about an hour away, and because of my dual enrollment credits, I should only be 5 semesters from finishing my bachelor's degree and then going for the master's degree I need for the career I want.\\n\\nFive years ago my Mamaw, (mom's mom) died, ...   \n",
       "85  # \\n\\nLegal aide has an advice line but it seems stuck in a loop. I cannot get past the recording to talk to an attorney and I need some advice so attorneys?\\n\\nI live in a complex that was built almost three years ago. I moved into my apartment one week after it was completed. I have an electric fireplace that I have never been able to use. When I complained about the smell-from the first tim...   \n",
       "46  This is my first post on Reddit, so I'll try my best to get to the point without making it too long!🤦🏻‍♀️😂 This story takes place from January 24th-February 30th.\\n\\nA \"friend\", more like an acquaintance that we met through another friend, offered to fix our car (1-3 days tops) &amp; he would accept getting paid in weekly increments as long as we made a large(ish) payment when we picked the ca...   \n",
       "39  For some backstory, I (26F) am a product of my father's affair.\\n\\nMy three half siblings, Jacob (36M), Lily (32F), and Helen (30F) have never wanted anything to do with me, and at first my father didn't either.\\n\\nWhen I was around six, though, my mother died. Nobody wanted an affair baby, so I ended up living with my father and his family after all. I was treated differently, like a guest in...   \n",
       "48  This happened over the weekend but there’s still so much tension. \\n\\nOne of my good friends, Matthew (26M) is getting married next month to Jennifer (26F). I (25F) have known Matthew since high school. We’ve both connected when it came to video games, especially Minecraft. Matthew has had his fair share of girlfriends over the years but when he met Jennifer 3 years ago, he said that he knew s...   \n",
       "\n",
       "    source  post_length_char  post_word_count  \n",
       "29       0              9140             1693  \n",
       "25       0              8465             1624  \n",
       "35       0              7312             1342  \n",
       "18       0              7026             1297  \n",
       "75       1              6479             1276  \n",
       "25       1              6610             1262  \n",
       "85       0              5888             1090  \n",
       "46       0              5291             1050  \n",
       "39       1              5391             1011  \n",
       "48       1              5234             1009  "
      ]
     },
     "execution_count": 12,
     "metadata": {},
     "output_type": "execute_result"
    }
   ],
   "source": [
    "# the longest posts are:\n",
    "print('\\033[1mThe ten longest posts are:\\033[0m', '\\n')\n",
    "posts.head(10)"
   ]
  },
  {
   "cell_type": "code",
   "execution_count": 13,
   "id": "43125c30-ce68-40d8-9a71-78b287cc4f36",
   "metadata": {
    "scrolled": true
   },
   "outputs": [
    {
     "name": "stdout",
     "output_type": "stream",
     "text": [
      "\u001b[1mThe ten shortest posts are:\u001b[0m \n",
      "\n"
     ]
    },
    {
     "data": {
      "text/html": [
       "<div>\n",
       "<style scoped>\n",
       "    .dataframe tbody tr th:only-of-type {\n",
       "        vertical-align: middle;\n",
       "    }\n",
       "\n",
       "    .dataframe tbody tr th {\n",
       "        vertical-align: top;\n",
       "    }\n",
       "\n",
       "    .dataframe thead th {\n",
       "        text-align: right;\n",
       "    }\n",
       "</style>\n",
       "<table border=\"1\" class=\"dataframe\">\n",
       "  <thead>\n",
       "    <tr style=\"text-align: right;\">\n",
       "      <th></th>\n",
       "      <th>title</th>\n",
       "      <th>post</th>\n",
       "      <th>source</th>\n",
       "      <th>post_length_char</th>\n",
       "      <th>post_word_count</th>\n",
       "    </tr>\n",
       "  </thead>\n",
       "  <tbody>\n",
       "    <tr>\n",
       "      <th>13</th>\n",
       "      <td>[NJ] Can my nephew start and be a member in an LLC?</td>\n",
       "      <td>He's a non green card holder, non permanent resident, and 14 years old.</td>\n",
       "      <td>0</td>\n",
       "      <td>71</td>\n",
       "      <td>13</td>\n",
       "    </tr>\n",
       "    <tr>\n",
       "      <th>67</th>\n",
       "      <td>[NC] what would the sentence/charge look like for shoplifting ~50$ worth of stuff?</td>\n",
       "      <td>[NC] what would the sentence/charge look like for shoplifting ~50$ worth of stuff?</td>\n",
       "      <td>0</td>\n",
       "      <td>82</td>\n",
       "      <td>13</td>\n",
       "    </tr>\n",
       "    <tr>\n",
       "      <th>84</th>\n",
       "      <td>[NC] help with spousal support</td>\n",
       "      <td>What do I need to do to prepare for spousal support court?</td>\n",
       "      <td>0</td>\n",
       "      <td>59</td>\n",
       "      <td>13</td>\n",
       "    </tr>\n",
       "    <tr>\n",
       "      <th>85</th>\n",
       "      <td>[MI] Would this be exempt from FOIA?</td>\n",
       "      <td>A letter to code enforcement regarding my property from my attorney.</td>\n",
       "      <td>0</td>\n",
       "      <td>69</td>\n",
       "      <td>12</td>\n",
       "    </tr>\n",
       "    <tr>\n",
       "      <th>83</th>\n",
       "      <td>[CA] Advice: Non-Compete Clause in Job Offer - California Law Query</td>\n",
       "      <td>[CA] Advice: Non-Compete Clause in Job Offer - California Law Query</td>\n",
       "      <td>0</td>\n",
       "      <td>67</td>\n",
       "      <td>11</td>\n",
       "    </tr>\n",
       "    <tr>\n",
       "      <th>40</th>\n",
       "      <td>[IL] Is discord legally considered a Social Media Platform?</td>\n",
       "      <td>[IL] Is discord legally considered a Social Media Platform?</td>\n",
       "      <td>0</td>\n",
       "      <td>59</td>\n",
       "      <td>9</td>\n",
       "    </tr>\n",
       "    <tr>\n",
       "      <th>27</th>\n",
       "      <td>[KS] Can you legally keep a doorstep baby?</td>\n",
       "      <td>[KS] Can you legally keep a doorstep baby?</td>\n",
       "      <td>0</td>\n",
       "      <td>42</td>\n",
       "      <td>8</td>\n",
       "    </tr>\n",
       "    <tr>\n",
       "      <th>65</th>\n",
       "      <td>[TX] What does the X mean?</td>\n",
       "      <td>[TX] What does the X mean?</td>\n",
       "      <td>0</td>\n",
       "      <td>26</td>\n",
       "      <td>6</td>\n",
       "    </tr>\n",
       "    <tr>\n",
       "      <th>59</th>\n",
       "      <td>[WA] Changing Executors</td>\n",
       "      <td>[WA] Changing Executors</td>\n",
       "      <td>0</td>\n",
       "      <td>23</td>\n",
       "      <td>3</td>\n",
       "    </tr>\n",
       "    <tr>\n",
       "      <th>88</th>\n",
       "      <td>[OH] What happens at a status conference in a civil lawsuit? (Pro Se) franklin county court of common pleas</td>\n",
       "      <td>Thank you</td>\n",
       "      <td>0</td>\n",
       "      <td>9</td>\n",
       "      <td>2</td>\n",
       "    </tr>\n",
       "  </tbody>\n",
       "</table>\n",
       "</div>"
      ],
      "text/plain": [
       "                                                                                                          title  \\\n",
       "13                                                          [NJ] Can my nephew start and be a member in an LLC?   \n",
       "67                           [NC] what would the sentence/charge look like for shoplifting ~50$ worth of stuff?   \n",
       "84                                                                              [NC] help with spousal support    \n",
       "85                                                                         [MI] Would this be exempt from FOIA?   \n",
       "83                                          [CA] Advice: Non-Compete Clause in Job Offer - California Law Query   \n",
       "40                                                  [IL] Is discord legally considered a Social Media Platform?   \n",
       "27                                                                   [KS] Can you legally keep a doorstep baby?   \n",
       "65                                                                                   [TX] What does the X mean?   \n",
       "59                                                                                      [WA] Changing Executors   \n",
       "88  [OH] What happens at a status conference in a civil lawsuit? (Pro Se) franklin county court of common pleas   \n",
       "\n",
       "                                                                                  post  \\\n",
       "13             He's a non green card holder, non permanent resident, and 14 years old.   \n",
       "67  [NC] what would the sentence/charge look like for shoplifting ~50$ worth of stuff?   \n",
       "84                         What do I need to do to prepare for spousal support court?    \n",
       "85               A letter to code enforcement regarding my property from my attorney.    \n",
       "83                 [CA] Advice: Non-Compete Clause in Job Offer - California Law Query   \n",
       "40                         [IL] Is discord legally considered a Social Media Platform?   \n",
       "27                                          [KS] Can you legally keep a doorstep baby?   \n",
       "65                                                          [TX] What does the X mean?   \n",
       "59                                                             [WA] Changing Executors   \n",
       "88                                                                           Thank you   \n",
       "\n",
       "    source  post_length_char  post_word_count  \n",
       "13       0                71               13  \n",
       "67       0                82               13  \n",
       "84       0                59               13  \n",
       "85       0                69               12  \n",
       "83       0                67               11  \n",
       "40       0                59                9  \n",
       "27       0                42                8  \n",
       "65       0                26                6  \n",
       "59       0                23                3  \n",
       "88       0                 9                2  "
      ]
     },
     "execution_count": 13,
     "metadata": {},
     "output_type": "execute_result"
    }
   ],
   "source": [
    "print('\\033[1mThe ten shortest posts are:\\033[0m', '\\n') \n",
    "posts.tail(10)"
   ]
  },
  {
   "cell_type": "markdown",
   "id": "a1e6bc83-e398-4adc-ad6b-bc358f0b9497",
   "metadata": {},
   "source": [
    "**Observation:** The shortest posts all came from AskLawyers"
   ]
  },
  {
   "cell_type": "markdown",
   "id": "a928d47b-dad9-464e-a86a-d1295ffbdf61",
   "metadata": {},
   "source": [
    "### Distribution of Post Length by Character Count and Word Count"
   ]
  },
  {
   "cell_type": "code",
   "execution_count": 42,
   "id": "7d410256-6d60-4020-81ac-f45d6fe941be",
   "metadata": {},
   "outputs": [
    {
     "data": {
      "image/png": "[encoded data removed]",
      "text/plain": [
       "<Figure size 600x300 with 1 Axes>"
      ]
     },
     "metadata": {},
     "output_type": "display_data"
    }
   ],
   "source": [
    "# Histogram for character count\n",
    "plt.figure(figsize = (6, 3));\n",
    "\n",
    "plt.hist(posts['post_length_char'], bins = 30, edgecolor = 'gold', color = 'gold', alpha = 0.3);\n",
    "plt.xlabel('Post Character Count');\n",
    "plt.ylabel('Frequency');\n",
    "plt.title('Distribution of Post Length by Character Count');\n",
    "\n",
    "# Saving Figure to Images folder\n",
    "plt.savefig('./Images/bar_post_len_by_char')"
   ]
  },
  {
   "cell_type": "code",
   "execution_count": 65,
   "id": "e9f6ac52-1953-480d-812e-0ec18c067f71",
   "metadata": {},
   "outputs": [
    {
     "name": "stdout",
     "output_type": "stream",
     "text": [
      "\u001b[1m Statistics for post lengths, measured by character count:\u001b[1m\n"
     ]
    },
    {
     "data": {
      "text/plain": [
       "count    2149.000000\n",
       "mean     1674.140065\n",
       "std       981.786867\n",
       "min         9.000000\n",
       "25%       911.000000\n",
       "50%      1608.000000\n",
       "75%      2437.000000\n",
       "max      9140.000000\n",
       "Name: post_length_char, dtype: float64"
      ]
     },
     "execution_count": 65,
     "metadata": {},
     "output_type": "execute_result"
    }
   ],
   "source": [
    "print('\\033[1m Statistics for post lengths, measured by character count:\\033[1m')\n",
    "posts['post_length_char'].describe()"
   ]
  },
  {
   "cell_type": "code",
   "execution_count": 43,
   "id": "2f7110af-72f6-4719-8b77-7259c0c120af",
   "metadata": {},
   "outputs": [
    {
     "data": {
      "image/png": "[encoded data removed]",
      "text/plain": [
       "<Figure size 600x300 with 1 Axes>"
      ]
     },
     "metadata": {},
     "output_type": "display_data"
    }
   ],
   "source": [
    "# Histogram for word count\n",
    "plt.figure(figsize = (6, 3));\n",
    "\n",
    "plt.hist(posts['post_word_count'], bins = 30, edgecolor = 'gold', color = 'gold', alpha = 0.3);\n",
    "plt.xlabel('Post Word Count');\n",
    "plt.ylabel('Frequency');\n",
    "plt.title('Distribution of Post Lengths by Word Count');\n",
    "\n",
    "# Saving Figure to Images folder\n",
    "plt.savefig('./Images/bar_post_len_by_words')"
   ]
  },
  {
   "cell_type": "code",
   "execution_count": 66,
   "id": "7aac0c38-e7ce-4e68-9c2e-fa15aaa1fe2d",
   "metadata": {},
   "outputs": [
    {
     "name": "stdout",
     "output_type": "stream",
     "text": [
      "\u001b[1m Statistics for post lengths, measured by word count:\u001b[1m\n"
     ]
    },
    {
     "data": {
      "text/plain": [
       "count    2149.00000\n",
       "mean      322.16752\n",
       "std       189.41884\n",
       "min         2.00000\n",
       "25%       173.00000\n",
       "50%       309.00000\n",
       "75%       470.00000\n",
       "max      1693.00000\n",
       "Name: post_word_count, dtype: float64"
      ]
     },
     "execution_count": 66,
     "metadata": {},
     "output_type": "execute_result"
    }
   ],
   "source": [
    "print('\\033[1m Statistics for post lengths, measured by word count:\\033[1m')\n",
    "posts['post_word_count'].describe()"
   ]
  },
  {
   "cell_type": "markdown",
   "id": "8c4cc5b2-e7ae-4e63-a405-420fed0713c1",
   "metadata": {},
   "source": [
    "**Observations:**\n",
    "\n",
    "* The minimum number of words used in a post is 2. \n",
    "\n",
    "* The minimum number of characters used in a post is 9.\n",
    "\n",
    "* The maximum number of words in a post is 9140 \n",
    "\n",
    "* The maximum number of characters in a post is 16923\n"
   ]
  },
  {
   "cell_type": "markdown",
   "id": "eb7676d5-a2b1-41e5-a9db-ce6736f0ac72",
   "metadata": {},
   "source": [
    "---\n",
    "#### Looking at the distribution of words and characters for posts out of AITA and AL separately"
   ]
  },
  {
   "cell_type": "code",
   "execution_count": 44,
   "id": "977c6444-55aa-4572-a827-10ce7e177242",
   "metadata": {},
   "outputs": [],
   "source": [
    "# Separating the 'posts' data frame by source\n",
    "aita_only = posts[posts['source'] == 1]\n",
    "al_only = posts[posts['source'] == 0]\n",
    "\n",
    "# Two new data frames: one for each source\n",
    "aita_df = aita_only[['post', 'title', 'source','post_length_char', 'post_word_count'  ]]\n",
    "al_df = al_only[['post', 'title', 'source','post_length_char', 'post_word_count']]"
   ]
  },
  {
   "cell_type": "code",
   "execution_count": 57,
   "id": "33edbcdd-ef17-4e9c-8887-332244d0968f",
   "metadata": {},
   "outputs": [
    {
     "data": {
      "image/png": "[encoded data removed]",
      "text/plain": [
       "<Figure size 600x300 with 1 Axes>"
      ]
     },
     "metadata": {},
     "output_type": "display_data"
    }
   ],
   "source": [
    "# Histogram for character count for posts from AITA and AL\n",
    "plt.figure(figsize = (6, 3));\n",
    "\n",
    "#AITA\n",
    "plt.hist(aita_df['post_word_count'],\n",
    "         bins = 30,\n",
    "         edgecolor = 'purple', \n",
    "         color = 'purple', \n",
    "         alpha = 0.7,\n",
    "         label = 'AITA');\n",
    "\n",
    "#AL\n",
    "plt.hist(al_df['post_word_count'], \n",
    "         bins = 30, \n",
    "         edgecolor = 'tomato',\n",
    "         color = 'tomato',\n",
    "         alpha = 0.7,\n",
    "         label = 'AL');\n",
    "\n",
    "plt.legend()\n",
    "plt.xlabel('Post Word Count');\n",
    "plt.ylabel('Frequency');\n",
    "plt.title('Distribution of Post Lengths by Word Count for Each Source');\n",
    "\n",
    "\n",
    "\n",
    "# Saving Figure to Images folder\n",
    "plt.savefig('./Images/bar_post_len_by_word_al_aita')"
   ]
  },
  {
   "cell_type": "code",
   "execution_count": 74,
   "id": "b4ae71b4-7a2c-4e7d-90d9-9f6c0d985a17",
   "metadata": {},
   "outputs": [
    {
     "name": "stdout",
     "output_type": "stream",
     "text": [
      "\u001b[1m Subreddit: AITA - Statistics for post lengths, measured by word count:\u001b[1m\n"
     ]
    },
    {
     "data": {
      "text/plain": [
       "count    1547.000000\n",
       "mean      378.914027\n",
       "std       156.393080\n",
       "min        52.000000\n",
       "25%       253.000000\n",
       "50%       369.000000\n",
       "75%       508.000000\n",
       "max      1276.000000\n",
       "Name: post_word_count, dtype: float64"
      ]
     },
     "execution_count": 74,
     "metadata": {},
     "output_type": "execute_result"
    }
   ],
   "source": [
    "print('\\033[1m Subreddit: AITA - Statistics for post lengths, measured by word count:\\033[1m')\n",
    "aita_df['post_word_count'].describe()"
   ]
  },
  {
   "cell_type": "code",
   "execution_count": 73,
   "id": "9a415030-0477-4333-b19b-0a2addd888ac",
   "metadata": {},
   "outputs": [
    {
     "name": "stdout",
     "output_type": "stream",
     "text": [
      "\u001b[1m Subreddit: AL - Statistics for post lengths, measured by word count:\u001b[1m\n"
     ]
    },
    {
     "data": {
      "text/plain": [
       "count     602.000000\n",
       "mean      176.342193\n",
       "std       189.019361\n",
       "min         2.000000\n",
       "25%        66.000000\n",
       "50%       117.500000\n",
       "75%       214.750000\n",
       "max      1693.000000\n",
       "Name: post_word_count, dtype: float64"
      ]
     },
     "execution_count": 73,
     "metadata": {},
     "output_type": "execute_result"
    }
   ],
   "source": [
    "print('\\033[1m Subreddit: AL - Statistics for post lengths, measured by word count:\\033[1m')\n",
    "al_df['post_word_count'].describe()"
   ]
  },
  {
   "cell_type": "markdown",
   "id": "abdd336c-bb65-4707-ba52-6546bd980586",
   "metadata": {},
   "source": [
    "**Observations:**\n",
    "\n",
    "* The mean number of words in AL posts (176) is about half the mean number of words in AITA posts (378)."
   ]
  },
  {
   "cell_type": "code",
   "execution_count": 46,
   "id": "2db59ad4-7beb-4d86-8dec-18c268f0d431",
   "metadata": {},
   "outputs": [
    {
     "data": {
      "image/png": "[encoded data removed]",
      "text/plain": [
       "<Figure size 600x300 with 1 Axes>"
      ]
     },
     "metadata": {},
     "output_type": "display_data"
    }
   ],
   "source": [
    "# Histogram for character count for posts from AITA and AL\n",
    "plt.figure(figsize = (6, 3));\n",
    "\n",
    "#AITA\n",
    "plt.hist(aita_df['post_length_char'], bins = 30, edgecolor = 'purple', color = 'purple', alpha = 0.7, label = 'AITA');\n",
    "plt.xlabel('Post Character Count');\n",
    "plt.ylabel('Frequency');\n",
    "plt.title('Distribution of Post Lengths by Character Count for Each Source');\n",
    "\n",
    "#AL\n",
    "plt.hist(al_df['post_length_char'], bins = 30, edgecolor = 'tomato', color = 'tomato', alpha = 0.7, label = 'AL');\n",
    "plt.legend()\n",
    "\n",
    "# Saving Figure to Images folder\n",
    "plt.savefig('./Images/bar_post_len_by_char_al_aita')"
   ]
  },
  {
   "cell_type": "code",
   "execution_count": 76,
   "id": "652f935c-518c-44f7-a3c7-a7a70b4f42d4",
   "metadata": {},
   "outputs": [
    {
     "name": "stdout",
     "output_type": "stream",
     "text": [
      "\u001b[1m Subreddit: AITA - Statistics for post lengths, measured by character count:\u001b[1m\n"
     ]
    },
    {
     "data": {
      "text/plain": [
       "count    1547.000000\n",
       "mean     1955.222366\n",
       "std       807.555850\n",
       "min       268.000000\n",
       "25%      1311.500000\n",
       "50%      1895.000000\n",
       "75%      2627.000000\n",
       "max      6610.000000\n",
       "Name: post_length_char, dtype: float64"
      ]
     },
     "execution_count": 76,
     "metadata": {},
     "output_type": "execute_result"
    }
   ],
   "source": [
    "print('\\033[1m Subreddit: AITA - Statistics for post lengths, measured by character count:\\033[1m')\n",
    "aita_df['post_length_char'].describe()"
   ]
  },
  {
   "cell_type": "code",
   "execution_count": 77,
   "id": "31fb9561-9da1-4067-81b1-917f69f442d4",
   "metadata": {},
   "outputs": [
    {
     "name": "stdout",
     "output_type": "stream",
     "text": [
      "\u001b[1m Subreddit: AL - Statistics for post lengths, measured by character count:\u001b[1m\n"
     ]
    },
    {
     "data": {
      "text/plain": [
       "count     602.00000\n",
       "mean      951.82392\n",
       "std      1020.53656\n",
       "min         9.00000\n",
       "25%       360.25000\n",
       "50%       629.00000\n",
       "75%      1170.75000\n",
       "max      9140.00000\n",
       "Name: post_length_char, dtype: float64"
      ]
     },
     "execution_count": 77,
     "metadata": {},
     "output_type": "execute_result"
    }
   ],
   "source": [
    "print('\\033[1m Subreddit: AL - Statistics for post lengths, measured by character count:\\033[1m')\n",
    "al_df['post_length_char'].describe()"
   ]
  },
  {
   "cell_type": "markdown",
   "id": "1130c6ea-a511-418f-9edc-2a8dc35439f6",
   "metadata": {},
   "source": [
    "**Observations:**\n",
    "* The mean number of characters in AL posts (951.82) is about half the mean number of words in AITA posts (1955)."
   ]
  },
  {
   "cell_type": "markdown",
   "id": "fe3f62c7-908e-431b-a15b-ee25c026e17f",
   "metadata": {},
   "source": [
    "---\n",
    "### What are the top words that appear in each source?\n",
    "\n",
    "**1.** I will write a preprocessor function that uses regular expressions to remove URLs, emojis, and special characters.\n",
    "` for emojis. *citations:* [Stack Overflow]('https://stackoverflow.com/questions/11331982/how-to-remove-any-url-within-a-string-in-python'), [PyNative]('https://pynative.com/python-regex-compile/'), [StackOverflow]('https://stackoverflow.com/questions/64509631/is-there-a-regex-to-match-all-unicode-emojis')\n",
    "\n",
    "**2,** I will define a lemmatize-tokenize function to use in `CountVectorizer`. *citations:* [GitHub Gist]('https://gist.github.com/MaxHalford/68b584e9154098151e6d9b5aa7464948')\n",
    "\n",
    "**3,** I will use `CountVectorizer`, with a custom, more comprehensive, list of `stop_words` and the function to remove URLs. Then, create a new data frame, with the count-vectorized posts. *citation:* GA Lesson 6.04, [stop words]('https://www.kaggle.com/datasets/rowhitswami/stopwords')\n",
    "\n",
    "**4,** I will repeat these steps with the data frames for each source (`aita_df` and `al_df`), as it will allow me to look into patterns for each post.\n",
    "\n",
    "**note:** When I model the data, I will use `GridSearch` to optimize parameters like `max_features`, `min_df`,`max_df`, and `ngram_range`."
   ]
  },
  {
   "cell_type": "code",
   "execution_count": 19,
   "id": "a0bc8525-d1e1-4320-b98e-80e2dcba931d",
   "metadata": {},
   "outputs": [],
   "source": [
    "# Function to address URLs\n",
    "def remove_urls_emojis(post):\n",
    "    # remove URLs\n",
    "    url_exp = re.compile(r'https?://\\S+|www\\.\\S+') #find URLs\n",
    "    post = url_exp.sub('', post) #replace w/ an empty string\n",
    "\n",
    "    # remove Emojis\n",
    "    emoji_exp = re.compile('['\n",
    "        u'\\U0001F300-\\U0001F5FF'\n",
    "        u'\\U0001F600-\\U0001F64F'\n",
    "        u'\\U0001F680-\\U0001F6FF'\n",
    "        u'\\U0001F700-\\U0001F77F'\n",
    "        u'\\U0001F780-\\U0001F7FF'\n",
    "        u'\\U0001F800-\\U0001F8FF'\n",
    "        u'\\U0001F900-\\U0001F9FF'\n",
    "        u'\\U0001FA00-\\U0001FA6F'\n",
    "        u'\\U0001FA70-\\U0001FAFF'\n",
    "        u'\\U00002702-\\U000027B0'\n",
    "        u'\\U000024C2-\\U0001F251'\n",
    "        ']+',\n",
    "        flags=re.UNICODE)\n",
    "    post = emoji_exp.sub('', post)\n",
    "    \n",
    "    # remove special characters\n",
    "    post = re.sub(r'[^a-zA-Z0-9\\s]', '', post)\n",
    "    \n",
    "    return post\n",
    "\n",
    "# Function a to tokenize and one to lemmatize\n",
    "def tokenize(post):\n",
    "    tokens = nltk.word_tokenize(post)\n",
    "    lemmatizer = WordNetLemmatizer()\n",
    "    return [lemmatizer.lemmatize(token) for token in tokens]\n",
    "\n",
    "\n",
    "# Define custom stop words from kaggle list cited above\n",
    "custom_stop_words = [\n",
    "    'I', 'Im','ha', 'le', 'u', 'wa', 'x', 'y', 'your', 'yours', 'yourself', 'yourselves', 'you', 'yond', 'yonder', 'yon', 'ye', 'yet', 'z', 'zillion', 'j', 'u', 'umpteen', 'usually', 'us', 'username', 'uponed', 'upons', 'uponing', 'upon', 'ups', 'upping', 'upped', 'up', 'unto', 'until', 'unless', 'unlike', 'unliker', 'unlikest', 'under', 'underneath', 'use', 'used', 'usedest', 'r', 'rath', 'rather', 'rathest', 'rathe', 're', 'relate', 'related', 'relatively', 'regarding', 'really', 'res', 'respecting', 'respectively', 'q', 'quite', 'que', 'qua', 'n', 'neither', 'neaths', 'neath', 'nethe', 'nethermost', 'necessary', 'necessariest', 'necessarier', 'never', 'nevertheless', 'nigh', 'nighest', 'nigher', 'nine', 'noone', 'nobody', 'nobodies', 'nowhere', 'nowheres', 'no', 'noes', 'nor', 'nos', 'no-one', 'none', 'not', 'notwithstanding', 'nothings', 'nothing', 'nathless', 'natheless', 't', 'ten', 'tills', 'till', 'tilled', 'tilling', 'to', 'towards', 'toward', 'towardest', 'towarder', 'together', 'too', 'thy', 'thyself', 'thus', 'than', 'that', 'those', 'thou', 'though', 'thous', 'thouses', 'thoroughest', 'thorougher', 'thorough', 'thoroughly', 'thru', 'thruer', 'thruest', 'thro', 'through', 'throughout', 'throughest', 'througher', 'thine', 'this', 'thises', 'they', 'thee', 'the', 'then', 'thence', 'thenest', 'thener', 'them', 'themselves', 'these', 'therer', 'there', 'thereby', 'therest', 'thereafter', 'therein', 'thereupon', 'therefore', 'their', 'theirs', 'thing', 'things', 'three', 'two', 'o', 'oh', 'owt', 'owning', 'owned', 'own', 'owns', 'others', 'other', 'otherwise', 'otherwisest', 'otherwiser', 'of', 'often', 'oftener', 'oftenest', 'off', 'offs', 'offest', 'one', 'ought', 'oughts', 'our', 'ours', 'ourselves', 'ourself', 'out', 'outest', 'outed', 'outwith', 'outs', 'outside', 'over', 'overallest', 'overaller', 'overalls', 'overall', 'overs', 'or', 'orer', 'orest', 'on', 'oneself', 'onest', 'ons', 'onto', 'a', 'atween', 'at', 'athwart', 'atop', 'afore', 'afterward', 'afterwards', 'after', 'afterest', 'afterer', 'ain', 'an', 'any', 'anything', 'anybody', 'anyone', 'anyhow', 'anywhere', 'anent', 'anear', 'and', 'andor', 'another', 'around', 'ares', 'are', 'aest', 'aer', 'against', 'again', 'accordingly', 'abaft', 'abafter', 'abaftest', 'abovest', 'above', 'abover', 'abouter', 'aboutest', 'about', 'aid', 'amidst', 'amid', 'among', 'amongst', 'apartest', 'aparter', 'apart', 'appeared', 'appears', 'appear', 'appearing', 'appropriating', 'appropriate', 'appropriatest', 'appropriates', 'appropriater', 'appropriated', 'already', 'always', 'also', 'along', 'alongside', 'although', 'almost', 'all', 'allest', 'aller', 'allyou', 'alls', 'albeit', 'awfully', 'as', 'aside', 'asides', 'aslant', 'ases', 'astrider', 'astride', 'astridest', 'astraddlest', 'astraddler', 'astraddle', 'availablest', 'availabler', 'available', 'aughts', 'aught', 'vs', 'v', 'variousest', 'variouser', 'various', 'via', 'vis-a-vis', 'vis-a-viser', 'vis-a-visest', 'viz', 'very', 'veriest', 'verier', 'versus', 'k', 'g', 'go', 'gone', 'good', 'got', 'gotta', 'gotten', 'get', 'gets', 'getting', 'b', 'by', 'byandby', 'by-and-by', 'bist', 'both', 'but', 'buts', 'be', 'beyond', 'because', 'became', 'becomes', 'become', 'becoming', 'becomings', 'becominger', 'becomingest', 'behind', 'behinds', 'before', 'beforehand', 'beforehandest', 'beforehander', 'bettered', 'betters', 'better', 'bettering', 'betwixt', 'between', 'beneath', 'been', 'below', 'besides', 'beside', 'm', 'my', 'myself', 'mucher', 'muchest', 'much', 'must', 'musts', 'musths', 'musth', 'main', 'make', 'mayest', 'many', 'mauger', 'maugre', 'me', 'meanwhiles', 'meanwhile', 'mostly', 'most', 'moreover', 'more', 'might', 'mights', 'midst', 'midsts', 'h', 'huh', 'humph', 'he', 'hers', 'herself', 'her', 'hereby', 'herein', 'hereafters', 'hereafter', 'hereupon', 'hence', 'hadst', 'had', 'having', 'haves', 'have', 'has', 'hast', 'hardly', 'hae', 'hath', 'him', 'himself', 'hither', 'hitherest', 'hitherer', 'his', 'how-do-you-do', 'however', 'how', 'howbeit', 'howdoyoudo', 'hoos', 'hoo', 'w', 'woulded', 'woulding', 'would', 'woulds', 'was', 'wast', 'we', 'wert', 'were', 'with', 'withal', 'without', 'within', 'why', 'what', 'whatever', 'whateverer', 'whateverest', 'whatsoeverer', 'whatsoeverest', 'whatsoever', 'whence', 'whencesoever', 'whenever', 'whensoever', 'when', 'whenas', 'whether', 'wheen', 'whereto', 'whereupon', 'wherever', 'whereon', 'whereof', 'where', 'whereby', 'wherewithal', 'wherewith', 'whereinto', 'wherein', 'whereafter', 'whereas', 'wheresoever', 'wherefrom', 'which', 'whichever', 'whichsoever', 'whilst', 'while', 'whiles', 'whithersoever', 'whither', 'whoever', 'whosoever', 'whoso', 'whose', 'whomever', 's', 'syne', 'syn', 'shalling', 'shall', 'shalled', 'shalls', 'shoulding', 'should', 'shoulded', 'shoulds', 'she', 'sayyid', 'sayid', 'said', 'saider', 'saidest', 'same', 'samest', 'sames', 'samer', 'saved', 'sans', 'sanses', 'sanserifs', 'sanserif', 'so', 'soer', 'soest', 'sobeit', 'someone', 'somebody', 'somehow', 'some', 'somewhere', 'somewhat', 'something', 'sometimest', 'sometimes', 'sometimer', 'sometime', 'several', 'severaler', 'severalest', 'serious', 'seriousest', 'seriouser', 'senza', 'send', 'sent', 'seem', 'seems', 'seemed', 'seemingest', 'seeminger', 'seemings', 'seven', 'summat', 'sups', 'sup', 'supping', 'supped', 'such', 'since', 'sine', 'sines', 'sith', 'six', 'stop', 'stopped', 'p', 'plaintiff', 'plenty', 'plenties', 'please', 'pleased', 'pleases', 'per', 'perhaps', 'particulars', 'particularly', 'particular', 'particularest', 'particularer', 'pro', 'providing', 'provides', 'provided', 'provide', 'probably', 'l', 'layabout', 'layabouts', 'latter', 'latterest', 'latterer', 'latterly', 'latters', 'lots', 'lotting', 'lotted', 'lot', 'lest', 'less', 'ie', 'ifs', 'if', 'i', 'info', 'information', 'itself', 'its', 'it', 'is', 'idem', 'idemer', 'idemest', 'immediate', 'immediately', 'immediatest', 'immediater', 'in', 'inwards', 'inwardest', 'inwarder', 'inward', 'inasmuch', 'into', 'instead', 'insofar', 'indicates', 'indicated', 'indicate', 'indicating', 'indeed', 'inc', 'f', 'fact', 'facts', 'fs', 'figupon', 'figupons', 'figuponing', 'figuponed', 'few', 'fewer', 'fewest', 'frae', 'from', 'failing', 'failings', 'five', 'furthers', 'furtherer', 'furthered', 'furtherest', 'further', 'furthering', 'furthermore', 'fourscore', 'followthrough', 'for', 'forwhy', 'fornenst', 'formerly', 'former', 'formerer', 'formerest', 'formers', 'forbye', 'forby', 'fore', 'forever', 'forer', 'fores', 'four', 'd', 'ddays', 'dday', 'do', 'doing', 'doings', 'doe', 'does', 'doth', 'downwarder', 'downwardest', 'downward', 'downwards', 'downs', 'done', 'doner', 'dones', 'donest', 'dos', 'dost', 'did', 'differentest', 'differenter', 'different', 'describing', 'describe', 'describes', 'described', 'despiting', 'despites', 'despited', 'despite', 'during', 'c', 'cum', 'circa', 'chez', 'cer', 'certain', 'certainest', 'certainer', 'cest', 'canst', 'cannot', 'cant', 'cants', 'canting', 'cantest', 'canted', 'co', 'could', 'couldst', 'comeon', 'comeons', 'come-ons', 'come-on', 'concerning', 'concerninger', 'concerningest', 'consequently', 'considering', 'e', 'eg', 'eight', 'either', 'even', 'evens', 'evenser', 'evensest', 'evened', 'evenest', 'ever', 'everyone', 'everything', 'everybody', 'everywhere', 'every', 'ere', 'each', 'et', 'etc', 'elsewhere', 'else', 'ex', 'excepted', 'excepts', 'except', 'excepting', 'exes', 'enough'\n",
    "]\n"
   ]
  },
  {
   "cell_type": "code",
   "execution_count": 20,
   "id": "c39702d8-3d81-4daa-95dd-79bd39ce8491",
   "metadata": {},
   "outputs": [
    {
     "name": "stderr",
     "output_type": "stream",
     "text": [
      "/opt/anaconda3/lib/python3.11/site-packages/sklearn/feature_extraction/text.py:528: UserWarning: The parameter 'token_pattern' will not be used since 'tokenizer' is not None'\n",
      "  warnings.warn(\n",
      "/opt/anaconda3/lib/python3.11/site-packages/sklearn/feature_extraction/text.py:409: UserWarning: Your stop_words may be inconsistent with your preprocessing. Tokenizing the stop words generated tokens ['can', 'down', 'plea', 'ta', 'visavis', 'visaviser', 'visavisest'] not in stop_words.\n",
      "  warnings.warn(\n"
     ]
    }
   ],
   "source": [
    "# Instantiating a CountVectorizer object & fitting all data.\n",
    "cvec = CountVectorizer(tokenizer = tokenize, \n",
    "                       preprocessor = remove_urls_emojis, \n",
    "                       stop_words = custom_stop_words,\n",
    "                       max_df = 0.95).fit(posts['post'])\n",
    "\n",
    "# transforming posts['post'] and storing as post_cvec_transform\n",
    "post_cvec_transform = cvec.transform(posts['post'])\n",
    "\n",
    "# New data frame, using .todense() on transformed data\n",
    "df_cvec = pd.DataFrame(post_cvec_transform.todense(), \n",
    "                       columns = cvec.get_feature_names_out())\n",
    "\n",
    "\n",
    "\n",
    "# Repeating for AITA data frame\n",
    "# instantiate\n",
    "cvec_aita = cvec.transform(aita_df['post'])\n",
    "# transform\n",
    "# cvec_aita_transform = cvec_aita.transform(posts['post'])\n",
    "\n",
    "# make data frame\n",
    "df_aita = pd.DataFrame(cvec_aita.todense(), \n",
    "                       columns = cvec.get_feature_names_out())\n",
    "\n",
    "\n",
    "\n",
    "# Repeating for AL data frame\n",
    "#instantiate\n",
    "cvec_al= cvec.transform(posts['post'])\n",
    "#transform\n",
    "\n",
    "\n",
    "# make data frame\n",
    "df_al= pd.DataFrame(cvec_al.todense(), \n",
    "                    columns = cvec.get_feature_names_out())"
   ]
  },
  {
   "cell_type": "code",
   "execution_count": 21,
   "id": "2088fef4-ff45-4b97-a144-1b9a56d19b82",
   "metadata": {},
   "outputs": [
    {
     "data": {
      "text/plain": [
       "19016"
      ]
     },
     "execution_count": 21,
     "metadata": {},
     "output_type": "execute_result"
    }
   ],
   "source": [
    "len(cvec.get_feature_names_out())"
   ]
  },
  {
   "cell_type": "markdown",
   "id": "a3a4b396-f0e5-49fe-bfba-7ea94b4296e2",
   "metadata": {},
   "source": [
    "**Top 15 Words for all posts combined**"
   ]
  },
  {
   "cell_type": "code",
   "execution_count": 22,
   "id": "c1c0d2d2-f83e-4141-8474-5a98b7e5ac27",
   "metadata": {},
   "outputs": [
    {
     "data": {
      "image/png": "[encoded data removed]",
      "text/plain": [
       "<Figure size 640x480 with 1 Axes>"
      ]
     },
     "metadata": {},
     "output_type": "display_data"
    }
   ],
   "source": [
    "df_cvec.sum().sort_values(ascending = False).head(15).plot(kind = 'barh', \n",
    "                                                           color = 'gold', \n",
    "                                                           alpha = 0.3, \n",
    "                                                           edgecolor = 'gold');\n",
    "\n",
    "plt.title('Top 15 Words for all posts combined');\n",
    "plt.xlabel('Frequency');\n",
    "plt.ylabel('Words');\n",
    "\n",
    "# Saving Figure to Images folder\n",
    "plt.savefig('./Images/bar_most_common_all')"
   ]
  },
  {
   "cell_type": "markdown",
   "id": "b98c5459-f91c-40e0-a341-a6b8fdef941a",
   "metadata": {},
   "source": [
    "**Top 15 Words for AITA posts**"
   ]
  },
  {
   "cell_type": "code",
   "execution_count": 23,
   "id": "b8e2f954-e888-4ac4-9d5d-7f7f5b4854f5",
   "metadata": {},
   "outputs": [
    {
     "data": {
      "image/png": "[encoded data removed]",
      "text/plain": [
       "<Figure size 640x480 with 1 Axes>"
      ]
     },
     "metadata": {},
     "output_type": "display_data"
    }
   ],
   "source": [
    "df_aita.sum().sort_values(ascending = False).head(15).plot(kind = 'barh', color = 'purple', alpha = 0.7, edgecolor = 'purple');\n",
    "\n",
    "plt.title('Top 15 Words for AITA posts');\n",
    "plt.xlabel('Frequency');\n",
    "plt.ylabel('Words');\n",
    "\n",
    "# Saving Figure to Images folder\n",
    "plt.savefig('./Images/bar_most_common_AITA')"
   ]
  },
  {
   "cell_type": "code",
   "execution_count": 24,
   "id": "b7ed82b5-837c-4ba1-9daf-0cb0f5132d01",
   "metadata": {},
   "outputs": [
    {
     "data": {
      "text/plain": [
       "just      2925\n",
       "time      2531\n",
       "like      2438\n",
       "told      2435\n",
       "friend    2258\n",
       "dont      2099\n",
       "want      2093\n",
       "My        2028\n",
       "She       1827\n",
       "year      1790\n",
       "didnt     1732\n",
       "know      1641\n",
       "day       1603\n",
       "am        1533\n",
       "He        1422\n",
       "dtype: int64"
      ]
     },
     "execution_count": 24,
     "metadata": {},
     "output_type": "execute_result"
    }
   ],
   "source": [
    "df_al.sum().sort_values(ascending = False).head(15)"
   ]
  },
  {
   "cell_type": "markdown",
   "id": "c80b9dd6-83cc-4c36-adf3-acf2d8dd537c",
   "metadata": {},
   "source": [
    "**Top 15 Words for AL posts**"
   ]
  },
  {
   "cell_type": "code",
   "execution_count": 25,
   "id": "d30bcd13-8d53-482e-bb38-aafd44a4ca22",
   "metadata": {},
   "outputs": [
    {
     "data": {
      "image/png": "[encoded data removed]",
      "text/plain": [
       "<Figure size 640x480 with 1 Axes>"
      ]
     },
     "metadata": {},
     "output_type": "display_data"
    }
   ],
   "source": [
    "df_al.sum().sort_values(ascending = False).head(15).plot(kind = 'barh', color = 'tomato', alpha = 0.7, edgecolor = 'tomato');\n",
    "\n",
    "plt.title('Top 15 Words for AL posts');\n",
    "plt.xlabel('Frequency');\n",
    "plt.ylabel('Words');\n",
    "\n",
    "# Saving Figure to Images folder\n",
    "plt.savefig('./Images/bar_most_common_AL')"
   ]
  },
  {
   "cell_type": "code",
   "execution_count": null,
   "id": "32d0ea05-895f-4752-b985-56114ee8f3f3",
   "metadata": {},
   "outputs": [],
   "source": []
  },
  {
   "cell_type": "code",
   "execution_count": null,
   "id": "1d38eeb1-112c-4e9d-bc46-e96427ad4c84",
   "metadata": {},
   "outputs": [],
   "source": []
  }
 ],
 "metadata": {
  "kernelspec": {
   "display_name": "Python 3 (ipykernel)",
   "language": "python",
   "name": "python3"
  },
  "language_info": {
   "codemirror_mode": {
    "name": "ipython",
    "version": 3
   },
   "file_extension": ".py",
   "mimetype": "text/x-python",
   "name": "python",
   "nbconvert_exporter": "python",
   "pygments_lexer": "ipython3",
   "version": "3.11.7"
  }
 },
 "nbformat": 4,
 "nbformat_minor": 5
}
