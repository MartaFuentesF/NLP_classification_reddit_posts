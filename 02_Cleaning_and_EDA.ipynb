{
 "cells": [
  {
   "cell_type": "markdown",
   "id": "aae8e7db-b55a-4c68-89b0-5bd644715940",
   "metadata": {},
   "source": [
    "# Project 3: Data Cleaning and EDA"
   ]
  },
  {
   "cell_type": "markdown",
   "id": "8143f394-2c44-4bbf-9a46-14a4e0563ead",
   "metadata": {},
   "source": [
    "Using the data obtained in the API notebook, I will create a single data frame to use in creating a classification using Natural Language Processing. "
   ]
  },
  {
   "cell_type": "code",
   "execution_count": 13,
   "id": "73bd91c6-5767-48a2-9cc1-600fcbd22fe3",
   "metadata": {},
   "outputs": [],
   "source": [
    "import pandas as pd\n",
    "import glob\n"
   ]
  },
  {
   "cell_type": "code",
   "execution_count": 18,
   "id": "b85bb5ed-8862-4f74-a88f-2b13a9f7e762",
   "metadata": {},
   "outputs": [],
   "source": [
    "# Argo helped me with the library, 'glob'. Glob lets you define a folder as a variable\n",
    "\n",
    "files = glob.glob('../project-3/Data/*.csv') # * is the thing that is different, the files variable is not a list, but it is a 'list' of files... like a folder.\n",
    "\n",
    "list = []\n",
    "\n",
    "for file in files:\n",
    "    list.append(pd.read_csv(file))\n",
    "\n",
    "posts = pd.concat(list)"
   ]
  },
  {
   "cell_type": "code",
   "execution_count": 19,
   "id": "77252e0b-f72b-40ec-a5f7-55e99dc6f60f",
   "metadata": {},
   "outputs": [
    {
     "name": "stdout",
     "output_type": "stream",
     "text": [
      "Dimensions: \n",
      "\n",
      "(2885, 3)\n",
      "============================== \n",
      "\n",
      "Information: \n",
      "\n",
      "<class 'pandas.core.frame.DataFrame'>\n",
      "Index: 2885 entries, 0 to 100\n",
      "Data columns (total 3 columns):\n",
      " #   Column  Non-Null Count  Dtype \n",
      "---  ------  --------------  ----- \n",
      " 0   title   2885 non-null   object\n",
      " 1   post    2807 non-null   object\n",
      " 2   source  2885 non-null   object\n",
      "dtypes: object(3)\n",
      "memory usage: 90.2+ KB\n",
      "None\n",
      "============================== \n",
      "\n",
      "data types: \n",
      "\n",
      "title     object\n",
      "post      object\n",
      "source    object\n",
      "dtype: object\n",
      "============================== \n",
      "\n"
     ]
    }
   ],
   "source": [
    "# Looking into the posts dataframe\n",
    "print('Dimensions:', '\\n')\n",
    "print(posts.shape)\n",
    "print('='*30, '\\n')\n",
    "\n",
    "print('Information:', '\\n')\n",
    "print(posts.info())\n",
    "print('='*30, '\\n')\n",
    "\n",
    "print('data types:', '\\n')\n",
    "print(posts.dtypes)\n",
    "print('='*30, '\\n')\n"
   ]
  },
  {
   "cell_type": "code",
   "execution_count": 20,
   "id": "1c0f7881-e963-4025-b8c6-bc5a35ca7bb7",
   "metadata": {},
   "outputs": [],
   "source": [
    "# noticed all titles had 'AITA' at the beginning\n",
    "posts['title'] = posts['title'].str.replace('AITA', '')"
   ]
  },
  {
   "cell_type": "code",
   "execution_count": 21,
   "id": "e6cd8161-03f0-4ec4-8c7d-1d6c9af0eb98",
   "metadata": {},
   "outputs": [
    {
     "data": {
      "text/html": [
       "<div>\n",
       "<style scoped>\n",
       "    .dataframe tbody tr th:only-of-type {\n",
       "        vertical-align: middle;\n",
       "    }\n",
       "\n",
       "    .dataframe tbody tr th {\n",
       "        vertical-align: top;\n",
       "    }\n",
       "\n",
       "    .dataframe thead th {\n",
       "        text-align: right;\n",
       "    }\n",
       "</style>\n",
       "<table border=\"1\" class=\"dataframe\">\n",
       "  <thead>\n",
       "    <tr style=\"text-align: right;\">\n",
       "      <th></th>\n",
       "      <th>title</th>\n",
       "      <th>post</th>\n",
       "      <th>source</th>\n",
       "    </tr>\n",
       "  </thead>\n",
       "  <tbody>\n",
       "    <tr>\n",
       "      <th>96</th>\n",
       "      <td>for telling my epileptic friend to stop delib...</td>\n",
       "      <td>Paula (35F) and I (30F) have been close friend...</td>\n",
       "      <td>AmItheAsshole</td>\n",
       "    </tr>\n",
       "    <tr>\n",
       "      <th>97</th>\n",
       "      <td>WIBTA if i told a couple on holiday to parent ...</td>\n",
       "      <td>I'm (31m) on holiday with my fiancé (36f) and ...</td>\n",
       "      <td>AmItheAsshole</td>\n",
       "    </tr>\n",
       "    <tr>\n",
       "      <th>98</th>\n",
       "      <td>for calling my co worker rude?</td>\n",
       "      <td>TLDR; co worker called me a diversity hire and...</td>\n",
       "      <td>AmItheAsshole</td>\n",
       "    </tr>\n",
       "    <tr>\n",
       "      <th>99</th>\n",
       "      <td>WIBTA if I told my friend her \"looking out for...</td>\n",
       "      <td>Since I transferred to my university I've (21F...</td>\n",
       "      <td>AmItheAsshole</td>\n",
       "    </tr>\n",
       "    <tr>\n",
       "      <th>100</th>\n",
       "      <td>for not inviting our friends daughter to our ...</td>\n",
       "      <td>My daughter is turning 7 and has been very exc...</td>\n",
       "      <td>AmItheAsshole</td>\n",
       "    </tr>\n",
       "  </tbody>\n",
       "</table>\n",
       "</div>"
      ],
      "text/plain": [
       "                                                 title  \\\n",
       "96    for telling my epileptic friend to stop delib...   \n",
       "97   WIBTA if i told a couple on holiday to parent ...   \n",
       "98                      for calling my co worker rude?   \n",
       "99   WIBTA if I told my friend her \"looking out for...   \n",
       "100   for not inviting our friends daughter to our ...   \n",
       "\n",
       "                                                  post         source  \n",
       "96   Paula (35F) and I (30F) have been close friend...  AmItheAsshole  \n",
       "97   I'm (31m) on holiday with my fiancé (36f) and ...  AmItheAsshole  \n",
       "98   TLDR; co worker called me a diversity hire and...  AmItheAsshole  \n",
       "99   Since I transferred to my university I've (21F...  AmItheAsshole  \n",
       "100  My daughter is turning 7 and has been very exc...  AmItheAsshole  "
      ]
     },
     "execution_count": 21,
     "metadata": {},
     "output_type": "execute_result"
    }
   ],
   "source": [
    "posts.tail()"
   ]
  },
  {
   "cell_type": "code",
   "execution_count": 22,
   "id": "f4fec8d2-8379-4b50-92f3-c2cfa0cc0291",
   "metadata": {},
   "outputs": [],
   "source": [
    "df.drop_duplicates(inplace = True)"
   ]
  },
  {
   "cell_type": "code",
   "execution_count": 23,
   "id": "f794eb5a-6d01-4040-82c7-8ff20f1b0850",
   "metadata": {},
   "outputs": [
    {
     "data": {
      "text/plain": [
       "(1230, 3)"
      ]
     },
     "execution_count": 23,
     "metadata": {},
     "output_type": "execute_result"
    }
   ],
   "source": [
    "df.shape"
   ]
  },
  {
   "cell_type": "code",
   "execution_count": 26,
   "id": "55fbde80-6eaa-41ea-bed4-aa49d2abc33c",
   "metadata": {},
   "outputs": [
    {
     "data": {
      "text/plain": [
       "<bound method IndexOpsMixin.value_counts of 0         AskLawyers\n",
       "1         AskLawyers\n",
       "2         AskLawyers\n",
       "3         AskLawyers\n",
       "4         AskLawyers\n",
       "           ...      \n",
       "96     AmItheAsshole\n",
       "97     AmItheAsshole\n",
       "98     AmItheAsshole\n",
       "99     AmItheAsshole\n",
       "100    AmItheAsshole\n",
       "Name: source, Length: 2885, dtype: object>"
      ]
     },
     "execution_count": 26,
     "metadata": {},
     "output_type": "execute_result"
    }
   ],
   "source": [
    "posts['source'].value_counts"
   ]
  },
  {
   "cell_type": "code",
   "execution_count": null,
   "id": "e1422b98-0add-4f55-9ef1-dfbebffdc693",
   "metadata": {},
   "outputs": [],
   "source": []
  }
 ],
 "metadata": {
  "kernelspec": {
   "display_name": "Python 3 (ipykernel)",
   "language": "python",
   "name": "python3"
  },
  "language_info": {
   "codemirror_mode": {
    "name": "ipython",
    "version": 3
   },
   "file_extension": ".py",
   "mimetype": "text/x-python",
   "name": "python",
   "nbconvert_exporter": "python",
   "pygments_lexer": "ipython3",
   "version": "3.11.7"
  }
 },
 "nbformat": 4,
 "nbformat_minor": 5
}
