{
 "cells": [
  {
   "cell_type": "markdown",
   "id": "d276fbcc-e987-41bb-b928-a58636a9f619",
   "metadata": {},
   "source": [
    "## Modeling and Model Evaluation: Using `Pipelines`, `TfidVectorizer`, `GridSearchCV`, and `LogisticRegression`.\n",
    "*citation:* GA Lesson 6.03, 6.04, and 6.05"
   ]
  },
  {
   "cell_type": "markdown",
   "id": "eaf64fe7-61dc-4d54-9a7c-64dd479c66ed",
   "metadata": {},
   "source": [
    "In this analysis, I will utilize a robust approach to model and predict text data. Initially, I will set up a Pipeline integrating TfidfVectorizer and LogisticRegression, and then fine-tune their parameters using GridSearchCV.\n",
    "\n",
    "Like before, I will be implementing a custom preprocessor in TfidfVectorizer.\n",
    "\n",
    "It is important to acknowledge that Logistic Regression assumes observations are independent of each other. This is important to note, as text data often has contextual dependencies that affect the overall meaning.\n",
    "\n",
    "To comprehensively evaluate the model's performance, I will analyze a range of metrics, including a Confusion Matrix, Specificity, Precision, Sensitivity, and F1 scores, in addition to accuracy scores. These metrics will provide valuable insights into the model's ability to accurately classify text data."
   ]
  },
  {
   "cell_type": "markdown",
   "id": "0f831f47-8114-430b-abc2-da61ab864a33",
   "metadata": {},
   "source": [
    "#### Importing libraries, reading in data, and binarizing the target variable"
   ]
  },
  {
   "cell_type": "code",
   "execution_count": 24,
   "id": "f90cf1d5-a368-4d07-94f3-f653b7bb006e",
   "metadata": {},
   "outputs": [],
   "source": [
    "# imports\n",
    "import pandas as pd\n",
    "import matplotlib.pyplot as plt\n",
    "from sklearn.model_selection import train_test_split, GridSearchCV\n",
    "from sklearn.pipeline import Pipeline\n",
    "from sklearn.linear_model import LogisticRegression\n",
    "from sklearn.metrics import confusion_matrix, ConfusionMatrixDisplay, RocCurveDisplay\n",
    "from sklearn import metrics\n",
    "import re\n",
    "\n",
    "# Import CountVectorizer and TFIDFVectorizer from feature_extraction.text.\n",
    "from sklearn.feature_extraction.text import CountVectorizer, TfidfVectorizer"
   ]
  },
  {
   "cell_type": "code",
   "execution_count": 3,
   "id": "c3c2fe04-5d02-42a0-8b75-dc2a9e0bc1fa",
   "metadata": {},
   "outputs": [],
   "source": [
    "# Reading in data\n",
    "df = pd.read_csv('./Data/clean_posts')"
   ]
  },
  {
   "cell_type": "code",
   "execution_count": 4,
   "id": "a93283a1-44c4-4b1e-b57a-384dbcc930aa",
   "metadata": {},
   "outputs": [],
   "source": [
    "# Binarizing the target variable\n",
    "df['source'] = df['source'].map({'AmItheAsshole': 1, 'AskLawyers' : 0})"
   ]
  },
  {
   "cell_type": "markdown",
   "id": "92d2379d-94df-444d-8bb6-7dad2736822a",
   "metadata": {},
   "source": [
    "---\n",
    "#### Declaring a feature matrix, X, and target variable, y.\n",
    "Then splitting the data frame in to training data & testing data.\n"
   ]
  },
  {
   "cell_type": "code",
   "execution_count": 5,
   "id": "8a3f7bfe-846f-4202-8895-9eac1c7caedb",
   "metadata": {},
   "outputs": [],
   "source": [
    "# variables\n",
    "X = df['post']\n",
    "y = df['source']\n",
    "\n",
    "# Splitting the data into training and testing sets.\n",
    "X_train, X_test, y_train, y_test = train_test_split(X, y,\n",
    "                                                    test_size=0.33,\n",
    "                                                    stratify=y,\n",
    "                                                    random_state=42)"
   ]
  },
  {
   "cell_type": "markdown",
   "id": "27d71958-75a6-4d6b-ab1f-fca9842d2f6f",
   "metadata": {},
   "source": [
    "#### Baseline Accuracy\n",
    "Determining the baseline accuracy to determine if my model is better than null model (predicting the plurality class)"
   ]
  },
  {
   "cell_type": "code",
   "execution_count": 6,
   "id": "c5b46e5f-0bab-45b6-8fa6-4d8e541e426a",
   "metadata": {},
   "outputs": [
    {
     "data": {
      "text/plain": [
       "source\n",
       "1    0.719944\n",
       "0    0.280056\n",
       "Name: proportion, dtype: float64"
      ]
     },
     "execution_count": 6,
     "metadata": {},
     "output_type": "execute_result"
    }
   ],
   "source": [
    "baseline =y_train.value_counts(normalize = True)\n",
    "baseline"
   ]
  },
  {
   "cell_type": "markdown",
   "id": "8ac0b4b9-e4da-46e9-aabd-4c15ef14e7fa",
   "metadata": {},
   "source": [
    "**Interpretation:** if we predict the post came from AITA, we'll be right ~72% of the time."
   ]
  },
  {
   "cell_type": "markdown",
   "id": "9270d8b1-e27f-4d25-a46d-51bab790a407",
   "metadata": {},
   "source": [
    "---\n",
    "#### Defining my custom pre-processor."
   ]
  },
  {
   "cell_type": "code",
   "execution_count": 7,
   "id": "b660c9d3-208a-45ef-b6f2-4f55aba2a92c",
   "metadata": {},
   "outputs": [],
   "source": [
    "def remove_urls_emojis(post):\n",
    "    # remove URLs\n",
    "    url_exp = re.compile(r'https?://\\S+|www\\.\\S+') #find URLs\n",
    "    post = url_exp.sub('', post) #replace w/ an empty string\n",
    "\n",
    "    # remove Emojis\n",
    "    emoji_exp = re.compile('['\n",
    "        u'\\U0001F300-\\U0001F5FF'\n",
    "        u'\\U0001F600-\\U0001F64F'\n",
    "        u'\\U0001F680-\\U0001F6FF'\n",
    "        u'\\U0001F700-\\U0001F77F'\n",
    "        u'\\U0001F780-\\U0001F7FF'\n",
    "        u'\\U0001F800-\\U0001F8FF'\n",
    "        u'\\U0001F900-\\U0001F9FF'\n",
    "        u'\\U0001FA00-\\U0001FA6F'\n",
    "        u'\\U0001FA70-\\U0001FAFF'\n",
    "        u'\\U00002702-\\U000027B0'\n",
    "        u'\\U000024C2-\\U0001F251'\n",
    "        ']+',\n",
    "        flags=re.UNICODE)\n",
    "    post = emoji_exp.sub('', post)\n",
    "    \n",
    "    # remove special characters\n",
    "    post = re.sub(r'[^a-zA-Z0-9\\s]', '', post)\n",
    "    \n",
    "    return post"
   ]
  },
  {
   "cell_type": "code",
   "execution_count": 16,
   "id": "ebec8920-44fc-45e4-b6af-c39a34c17249",
   "metadata": {},
   "outputs": [],
   "source": [
    "# Instantiate the transformer.\n",
    "tvec = TfidfVectorizer()"
   ]
  },
  {
   "cell_type": "markdown",
   "id": "c6360f73-f6de-4593-bc8f-b3af2038d981",
   "metadata": {},
   "source": [
    "---\n",
    "#### Setting a 2 stage `Pipeline`"
   ]
  },
  {
   "cell_type": "code",
   "execution_count": 17,
   "id": "357d20de-f29a-497d-9c84-38caf4dea761",
   "metadata": {},
   "outputs": [],
   "source": [
    "# Declaring a Pipeline, and introducing my preprocessing function.\n",
    "pipe_tvec = Pipeline([\n",
    "    ('tvec', TfidfVectorizer(preprocessor = remove_urls_emojis)), \n",
    "    ('lr', LogisticRegression()) \n",
    "    \n",
    "])"
   ]
  },
  {
   "cell_type": "markdown",
   "id": "87caf341-4326-4981-bf88-219437e8bc4b",
   "metadata": {},
   "source": [
    "---\n",
    "#### GridSearchCV\n",
    "Since I want to tune over the `TfidVectorizer`, I will load the `Pipeline` object into `GridSearchCV`."
   ]
  },
  {
   "cell_type": "code",
   "execution_count": 21,
   "id": "f4428354-d626-4c47-b64e-b456ab5dceca",
   "metadata": {},
   "outputs": [],
   "source": [
    "# Search over the following values of hyperparameters:\n",
    "pipe_tvec_params = {\n",
    "    'tvec__max_features': [2000, 3000, 4000, 5000], \n",
    "    'tvec__min_df': [2, 4, 6], \n",
    "    'tvec__max_df': [0.95, 0.97, 0.99],\n",
    "    'tvec__ngram_range': [(1, 1), (1,2), (1,3)] \n",
    "                 }"
   ]
  },
  {
   "cell_type": "code",
   "execution_count": 22,
   "id": "9cdd7d80-d445-4b6e-a915-89e07b934a7b",
   "metadata": {},
   "outputs": [],
   "source": [
    "# Instantiate GridSearchCV.\n",
    "gs_tvec = GridSearchCV(pipe_tvec,\n",
    "                      param_grid = pipe_tvec_params,\n",
    "                      cv = 5,\n",
    "                      n_jobs = -1)\n"
   ]
  },
  {
   "cell_type": "code",
   "execution_count": 25,
   "id": "6a8f89d6-c8ba-4edb-95a8-5efefeb9e59b",
   "metadata": {},
   "outputs": [
    {
     "data": {
      "text/html": [
       "<style>#sk-container-id-1 {color: black;background-color: white;}#sk-container-id-1 pre{padding: 0;}#sk-container-id-1 div.sk-toggleable {background-color: white;}#sk-container-id-1 label.sk-toggleable__label {cursor: pointer;display: block;width: 100%;margin-bottom: 0;padding: 0.3em;box-sizing: border-box;text-align: center;}#sk-container-id-1 label.sk-toggleable__label-arrow:before {content: \"▸\";float: left;margin-right: 0.25em;color: #696969;}#sk-container-id-1 label.sk-toggleable__label-arrow:hover:before {color: black;}#sk-container-id-1 div.sk-estimator:hover label.sk-toggleable__label-arrow:before {color: black;}#sk-container-id-1 div.sk-toggleable__content {max-height: 0;max-width: 0;overflow: hidden;text-align: left;background-color: #f0f8ff;}#sk-container-id-1 div.sk-toggleable__content pre {margin: 0.2em;color: black;border-radius: 0.25em;background-color: #f0f8ff;}#sk-container-id-1 input.sk-toggleable__control:checked~div.sk-toggleable__content {max-height: 200px;max-width: 100%;overflow: auto;}#sk-container-id-1 input.sk-toggleable__control:checked~label.sk-toggleable__label-arrow:before {content: \"▾\";}#sk-container-id-1 div.sk-estimator input.sk-toggleable__control:checked~label.sk-toggleable__label {background-color: #d4ebff;}#sk-container-id-1 div.sk-label input.sk-toggleable__control:checked~label.sk-toggleable__label {background-color: #d4ebff;}#sk-container-id-1 input.sk-hidden--visually {border: 0;clip: rect(1px 1px 1px 1px);clip: rect(1px, 1px, 1px, 1px);height: 1px;margin: -1px;overflow: hidden;padding: 0;position: absolute;width: 1px;}#sk-container-id-1 div.sk-estimator {font-family: monospace;background-color: #f0f8ff;border: 1px dotted black;border-radius: 0.25em;box-sizing: border-box;margin-bottom: 0.5em;}#sk-container-id-1 div.sk-estimator:hover {background-color: #d4ebff;}#sk-container-id-1 div.sk-parallel-item::after {content: \"\";width: 100%;border-bottom: 1px solid gray;flex-grow: 1;}#sk-container-id-1 div.sk-label:hover label.sk-toggleable__label {background-color: #d4ebff;}#sk-container-id-1 div.sk-serial::before {content: \"\";position: absolute;border-left: 1px solid gray;box-sizing: border-box;top: 0;bottom: 0;left: 50%;z-index: 0;}#sk-container-id-1 div.sk-serial {display: flex;flex-direction: column;align-items: center;background-color: white;padding-right: 0.2em;padding-left: 0.2em;position: relative;}#sk-container-id-1 div.sk-item {position: relative;z-index: 1;}#sk-container-id-1 div.sk-parallel {display: flex;align-items: stretch;justify-content: center;background-color: white;position: relative;}#sk-container-id-1 div.sk-item::before, #sk-container-id-1 div.sk-parallel-item::before {content: \"\";position: absolute;border-left: 1px solid gray;box-sizing: border-box;top: 0;bottom: 0;left: 50%;z-index: -1;}#sk-container-id-1 div.sk-parallel-item {display: flex;flex-direction: column;z-index: 1;position: relative;background-color: white;}#sk-container-id-1 div.sk-parallel-item:first-child::after {align-self: flex-end;width: 50%;}#sk-container-id-1 div.sk-parallel-item:last-child::after {align-self: flex-start;width: 50%;}#sk-container-id-1 div.sk-parallel-item:only-child::after {width: 0;}#sk-container-id-1 div.sk-dashed-wrapped {border: 1px dashed gray;margin: 0 0.4em 0.5em 0.4em;box-sizing: border-box;padding-bottom: 0.4em;background-color: white;}#sk-container-id-1 div.sk-label label {font-family: monospace;font-weight: bold;display: inline-block;line-height: 1.2em;}#sk-container-id-1 div.sk-label-container {text-align: center;}#sk-container-id-1 div.sk-container {/* jupyter's `normalize.less` sets `[hidden] { display: none; }` but bootstrap.min.css set `[hidden] { display: none !important; }` so we also need the `!important` here to be able to override the default hidden behavior on the sphinx rendered scikit-learn.org. See: https://github.com/scikit-learn/scikit-learn/issues/21755 */display: inline-block !important;position: relative;}#sk-container-id-1 div.sk-text-repr-fallback {display: none;}</style><div id=\"sk-container-id-1\" class=\"sk-top-container\"><div class=\"sk-text-repr-fallback\"><pre>GridSearchCV(cv=5,\n",
       "             estimator=Pipeline(steps=[(&#x27;tvec&#x27;,\n",
       "                                        TfidfVectorizer(preprocessor=&lt;function remove_urls_emojis at 0x17d7ae8e0&gt;)),\n",
       "                                       (&#x27;lr&#x27;, LogisticRegression())]),\n",
       "             n_jobs=-1,\n",
       "             param_grid={&#x27;tvec__max_df&#x27;: [0.95, 0.97, 0.99],\n",
       "                         &#x27;tvec__max_features&#x27;: [2000, 3000, 4000, 5000],\n",
       "                         &#x27;tvec__min_df&#x27;: [2, 4, 6],\n",
       "                         &#x27;tvec__ngram_range&#x27;: [(1, 1), (1, 2), (1, 3)]})</pre><b>In a Jupyter environment, please rerun this cell to show the HTML representation or trust the notebook. <br />On GitHub, the HTML representation is unable to render, please try loading this page with nbviewer.org.</b></div><div class=\"sk-container\" hidden><div class=\"sk-item sk-dashed-wrapped\"><div class=\"sk-label-container\"><div class=\"sk-label sk-toggleable\"><input class=\"sk-toggleable__control sk-hidden--visually\" id=\"sk-estimator-id-1\" type=\"checkbox\" ><label for=\"sk-estimator-id-1\" class=\"sk-toggleable__label sk-toggleable__label-arrow\">GridSearchCV</label><div class=\"sk-toggleable__content\"><pre>GridSearchCV(cv=5,\n",
       "             estimator=Pipeline(steps=[(&#x27;tvec&#x27;,\n",
       "                                        TfidfVectorizer(preprocessor=&lt;function remove_urls_emojis at 0x17d7ae8e0&gt;)),\n",
       "                                       (&#x27;lr&#x27;, LogisticRegression())]),\n",
       "             n_jobs=-1,\n",
       "             param_grid={&#x27;tvec__max_df&#x27;: [0.95, 0.97, 0.99],\n",
       "                         &#x27;tvec__max_features&#x27;: [2000, 3000, 4000, 5000],\n",
       "                         &#x27;tvec__min_df&#x27;: [2, 4, 6],\n",
       "                         &#x27;tvec__ngram_range&#x27;: [(1, 1), (1, 2), (1, 3)]})</pre></div></div></div><div class=\"sk-parallel\"><div class=\"sk-parallel-item\"><div class=\"sk-item\"><div class=\"sk-label-container\"><div class=\"sk-label sk-toggleable\"><input class=\"sk-toggleable__control sk-hidden--visually\" id=\"sk-estimator-id-2\" type=\"checkbox\" ><label for=\"sk-estimator-id-2\" class=\"sk-toggleable__label sk-toggleable__label-arrow\">estimator: Pipeline</label><div class=\"sk-toggleable__content\"><pre>Pipeline(steps=[(&#x27;tvec&#x27;,\n",
       "                 TfidfVectorizer(preprocessor=&lt;function remove_urls_emojis at 0x17d7ae8e0&gt;)),\n",
       "                (&#x27;lr&#x27;, LogisticRegression())])</pre></div></div></div><div class=\"sk-serial\"><div class=\"sk-item\"><div class=\"sk-serial\"><div class=\"sk-item\"><div class=\"sk-estimator sk-toggleable\"><input class=\"sk-toggleable__control sk-hidden--visually\" id=\"sk-estimator-id-3\" type=\"checkbox\" ><label for=\"sk-estimator-id-3\" class=\"sk-toggleable__label sk-toggleable__label-arrow\">TfidfVectorizer</label><div class=\"sk-toggleable__content\"><pre>TfidfVectorizer(preprocessor=&lt;function remove_urls_emojis at 0x17d7ae8e0&gt;)</pre></div></div></div><div class=\"sk-item\"><div class=\"sk-estimator sk-toggleable\"><input class=\"sk-toggleable__control sk-hidden--visually\" id=\"sk-estimator-id-4\" type=\"checkbox\" ><label for=\"sk-estimator-id-4\" class=\"sk-toggleable__label sk-toggleable__label-arrow\">LogisticRegression</label><div class=\"sk-toggleable__content\"><pre>LogisticRegression()</pre></div></div></div></div></div></div></div></div></div></div></div></div>"
      ],
      "text/plain": [
       "GridSearchCV(cv=5,\n",
       "             estimator=Pipeline(steps=[('tvec',\n",
       "                                        TfidfVectorizer(preprocessor=<function remove_urls_emojis at 0x17d7ae8e0>)),\n",
       "                                       ('lr', LogisticRegression())]),\n",
       "             n_jobs=-1,\n",
       "             param_grid={'tvec__max_df': [0.95, 0.97, 0.99],\n",
       "                         'tvec__max_features': [2000, 3000, 4000, 5000],\n",
       "                         'tvec__min_df': [2, 4, 6],\n",
       "                         'tvec__ngram_range': [(1, 1), (1, 2), (1, 3)]})"
      ]
     },
     "execution_count": 25,
     "metadata": {},
     "output_type": "execute_result"
    }
   ],
   "source": [
    "# Fit GridSearch to training data.\n",
    "gs_tvec.fit(X_train, y_train)"
   ]
  },
  {
   "cell_type": "code",
   "execution_count": 26,
   "id": "3a8ed78a-26e0-49f7-99cd-6ce0137bd0d8",
   "metadata": {},
   "outputs": [
    {
     "name": "stdout",
     "output_type": "stream",
     "text": [
      "\u001b[1mBaseline Accuracy Score:\u001b[1m source\n",
      "1    0.719944\n",
      "0    0.280056\n",
      "Name: proportion, dtype: float64 \n",
      "\n",
      "\u001b[1mBest Accuracy Score on cross validation:\u001b[0m 0.9346689895470384 \n",
      "\n",
      "\u001b[1mBest Accuracy Score on training data:\u001b[0m 0.9645587213342599 \n",
      "\n",
      "\u001b[1mBest Accuracy Score on testing data:\u001b[0m 0.9478873239436619 \n",
      "\n",
      "\u001b[1mBest Parameters found by GridSearchCV:\u001b[0m \n",
      " {'tvec__max_df': 0.95, 'tvec__max_features': 2000, 'tvec__min_df': 4, 'tvec__ngram_range': (1, 1)}\n"
     ]
    }
   ],
   "source": [
    "print('\\033[1mBaseline Accuracy Score:\\033[1m', baseline, '\\n')\n",
    "print('\\033[1mBest Accuracy Score on cross validation:\\033[0m', gs_tvec.best_score_, '\\n')\n",
    "print('\\033[1mBest Accuracy Score on training data:\\033[0m', gs_tvec.score(X_train, y_train), '\\n')\n",
    "print('\\033[1mBest Accuracy Score on testing data:\\033[0m', gs_tvec.score(X_test, y_test), '\\n')\n",
    "print('\\033[1mBest Parameters found by GridSearchCV:\\033[0m', '\\n', gs_tvec.best_params_)"
   ]
  },
  {
   "cell_type": "markdown",
   "id": "2d61d3a2-78c1-4dd8-8f83-460eb0b95834",
   "metadata": {},
   "source": [
    "**Interpretation & notes:**\n",
    "* Like the cvec-mb model (CountVectorizer-MultinomialBayes model), this model demonstrates a considerable improvement over the baseline accuracy, indicating its effectiveness in classification tasks. Like before, the testing and training accuracy scores suggest some level of overfitting. However, this discrepancy is minimal, suggesting that the model generalizes reasonably well to unseen data.\n",
    "\n",
    "* Comparing the models, we can see the cvec-mb model accuracy score is lower. Interestlingly, the GridSearchCV optimized for the same max_df, min_df, and ngram_range. The max_features were drastically different.\n",
    "\n",
    "| Model                              | Baseline Accuracy(Source 1: AmItheAssole) | Baseline Accuracy (Source 0: AskLawyers) | Best Accuracy Score (CV) | Best Accuracy Score (Training) | Best Accuracy Score (Testing) | Best Parameters Found                             |\n",
    "|------------------------------------|------------------------------------|------------------------------------|--------------------------|--------------------------------|-------------------------------|--------------------------------------------------|\n",
    "| CountVectorizer + MultinomialNB    | 0.719944                           | 0.280056                           | 0.964564                 | 0.979847                       | 0.950704                      | max_df': 0.95, 'max_features': 5000, 'min_df': 4, 'ngram_range': (1, 1) |\n",
    "| TfidVectorizer + LinearRegression | 0.719944                           | 0.280056                           | 0.934669                 | 0.964559                       | 0.947887                      | 'max_df': 0.95, 'max_features': 2000, 'min_df': 4, 'ngram_range': (1, 1) |\n",
    "\n",
    "* While accuracy is a valuable metric for assessing model performance, it should not be considered in isolation. Additional metrics such as precision, recall, and F1-score provide deeper insights into the model's predictive capabilities.\n",
    "\n",
    "Below, I'll present key metrics, including true positives, false positives, true negatives, and false negatives. These metrics are essential for a comprehensive evaluation of the model's performance. Additionally, I will analize the model's performance using an ROC and AUC. "
   ]
  },
  {
   "cell_type": "markdown",
   "id": "efbc03cb-ce25-4fb5-bbbe-a5bde3f5a6d0",
   "metadata": {},
   "source": [
    "#### Evaluating the model using a Confusion Matrix"
   ]
  },
  {
   "cell_type": "code",
   "execution_count": 28,
   "id": "8b717630-1866-4a84-b09c-e8bd6b9af12e",
   "metadata": {},
   "outputs": [],
   "source": [
    "# Get predictions\n",
    "preds = gs_tvec.predict(X_test)\n",
    "\n",
    "# Save confusion matrix values\n",
    "tn, fp, fn, tp = confusion_matrix(y_test, preds).ravel()"
   ]
  },
  {
   "cell_type": "code",
   "execution_count": 30,
   "id": "f35b5946-f8d0-4159-a560-6b63a922e721",
   "metadata": {},
   "outputs": [
    {
     "data": {
      "image/png": "[encoded data removed]",
      "text/plain": [
       "<Figure size 640x480 with 2 Axes>"
      ]
     },
     "metadata": {},
     "output_type": "display_data"
    }
   ],
   "source": [
    "# View confusion matrix\n",
    "disp = ConfusionMatrixDisplay(confusion_matrix=confusion_matrix(y_test, preds),\n",
    "                             display_labels=gs_tvec.classes_)\n",
    "disp.plot();\n",
    "\n",
    "# Saving Figure to Images folder\n",
    "plt.savefig('./Images/conf_matrix_tvec_lr')"
   ]
  },
  {
   "cell_type": "markdown",
   "id": "f05c6849-e5c3-444c-aebd-1a712e5b2e7b",
   "metadata": {},
   "source": [
    "**Calculating Metrics other than accuracy**"
   ]
  },
  {
   "cell_type": "code",
   "execution_count": 36,
   "id": "46c4633c-6e65-48f1-a38f-e25e9bae0c74",
   "metadata": {},
   "outputs": [
    {
     "name": "stdout",
     "output_type": "stream",
     "text": [
      "Specificity Score:  0.8341708542713567\n",
      "Recall Score:  0.9921722113502935\n",
      "Precision Score:  0.9388888888888889\n",
      "F1 Score:  0.9647954329210277\n"
     ]
    }
   ],
   "source": [
    "specificity =  tn / (tn + fp)\n",
    "print('Specificity Score: ', specificity)\n",
    "print('Recall Score: ', metrics.recall_score(y_test, preds))\n",
    "print('Precision Score: ', metrics.precision_score(y_test, preds))\n",
    "print('F1 Score: ', metrics.f1_score(y_test, preds))"
   ]
  },
  {
   "cell_type": "markdown",
   "id": "c78d0a7c-6fbf-44cb-aee4-07f2a6f45daf",
   "metadata": {},
   "source": [
    "| Metric          | Score            |\n",
    "|-----------------|------------------|\n",
    "| Specificity     | 0.8341708542713567 |\n",
    "| Recall          | 0.9921722113502935 |\n",
    "| Precision       | 0.9388888888888889 |\n",
    "| F1 Score        | 0.9647954329210277 |\n"
   ]
  },
  {
   "cell_type": "markdown",
   "id": "6abba00b-8b9f-4c03-8285-8067093a84fc",
   "metadata": {},
   "source": [
    "**Interpretation of the calculated metrics:**\n",
    "\n",
    "*citation:* [towardsdatascience.com]('https://towardsdatascience.com/accuracy-precision-recall-or-f1-331fb37c5cb9')\n",
    "\n",
    "* **Recall,** also known as sensitivity or true positive rate, represents the proportion of correctly predicted posts from a specific source out of all the posts that were from that source. A high recall score means we have minimized the number of false negatives. The model's recall score of 0.99 means the model correctly identifies the percentage of the posts that were truly from source 0.\n",
    "\n",
    "\n",
    "* **Precision** is a good measure to determine, when the costs of False Positive is high. A high precision score indicates that when the model predicts a post to be from source 1, it is usually correct.\n",
    "  \n",
    "* **F1 scores**, also known as the harmonic mean, are a particularly helpful metric as they are a function of both recall and precision. A high F1 score tells us the model has high precision and high recall. This means the model is identifying the source correctly and minimizing misclassifications.\n",
    "\n",
    "* **Specificity** represents the ability of the model to correctly identify posts from source 1 as being from source 1, relative to all the actual posts that are from source 1. A high specificity score indicates that the model has a strong ability to correctly identify posts from source 1, without mistakenly classifying too many posts from source 0 as being from source 1. This metric is particularly important when the cost of misclassifying posts from source 1 as source 0 is high.\n",
    "  \n",
    "\n",
    "\n",
    "\n",
    "\n"
   ]
  },
  {
   "cell_type": "markdown",
   "id": "721ff1c6-4a55-4aa9-99c0-3efcf88aa5d0",
   "metadata": {},
   "source": [
    "#### Comparing metrics from my first model (`CountVectorizer` + `NaïveBayes`) to my second model (`TfidVectorizer` + `LogisticRegression`)\n",
    "\n",
    "| Metric          | CountVectorizer + MultinomialNB | TfidVectorizer + LogisticRegression |\n",
    "|-----------------|---------------------------------|-------------------------------------|\n",
    "| Specificity     | 0.889                           | 0.834                               |\n",
    "| Recall          | 0.975                           | 0.992                               |\n",
    "| Precision       | 0.958                           | 0.939                               |\n",
    "| F1 Score        | 0.966                           | 0.965                               |\n",
    "\n",
    "\n",
    "Looking at the F1 Score, we see that both models perform really well and have almost identical metrics. This means they're both effective in making accurate predictions. When we also consider Specificity, Recall, and Precision, we find that although the models have some small differences, they both do a great job overall. So, whether we use TfidVectorizer with LogisticRegression or CountVectorizer with MultinomialNB, we can trust that our models are doing a solid job at predicting the source of the reddit posts.\n",
    "\n",
    "Another important metric is the AUC for the ROC curve. I will calculate those below."
   ]
  },
  {
   "cell_type": "markdown",
   "id": "aa169209-c1b8-451d-b16f-1e37de56fe4b",
   "metadata": {},
   "source": [
    "#### ROC curve and AUC\n",
    "*citation:* [medium.com]('https://medium.com/@shaileydash/understanding-the-roc-and-auc-intuitively-31ca96445c02')"
   ]
  },
  {
   "cell_type": "code",
   "execution_count": 38,
   "id": "7694909d-81c5-4369-8532-5937a02647db",
   "metadata": {},
   "outputs": [
    {
     "data": {
      "image/png": "[encoded data removed]",
      "text/plain": [
       "<Figure size 640x480 with 1 Axes>"
      ]
     },
     "metadata": {},
     "output_type": "display_data"
    }
   ],
   "source": [
    "RocCurveDisplay.from_estimator(gs_tvec, X_test, y_test);\n",
    "\n",
    "plt.title('ROC and AUC for TfidVectorizer + LogisticRegression Model')\n",
    "plt.plot([1,0], [1,0], linestyle = '--')\n",
    "\n",
    "# Saving Figure to Images folder\n",
    "plt.savefig('./Images/roc_auc_cvec_lr')"
   ]
  },
  {
   "cell_type": "markdown",
   "id": "2de8c834-62ce-4caa-9425-bf1dc8478d10",
   "metadata": {},
   "source": [
    "**Interpretation & notes on ROC & AUC**\n",
    "\n",
    "The ROC curve (Receiver Operating Characteristic curve) provides a visual insight into how well a binary classification model performs. Often considered the gold-standard.\n",
    "\n",
    "The AUC (Area Under the Curve) for this model is 0.99, which is the same score as the previous model, indicating that both models effectively distinguishes posts from the target source. Ideally, a perfect AUC score of 1.0 would form an ROC curve with a 90° angle at the top left, signifying flawless performance.\n",
    "\n",
    "The gold, dashed line is added to the graph to show the lowest performance a model could have when measured using this tool.\n",
    "\n",
    "The model maintains a low false positive rate, meaning it rarely misclassifies posts from other sources as originating from the target source."
   ]
  },
  {
   "cell_type": "code",
   "execution_count": null,
   "id": "6e0b87c8-2a52-44b0-b7b3-0e1ce4770cd8",
   "metadata": {},
   "outputs": [],
   "source": []
  }
 ],
 "metadata": {
  "kernelspec": {
   "display_name": "Python 3 (ipykernel)",
   "language": "python",
   "name": "python3"
  },
  "language_info": {
   "codemirror_mode": {
    "name": "ipython",
    "version": 3
   },
   "file_extension": ".py",
   "mimetype": "text/x-python",
   "name": "python",
   "nbconvert_exporter": "python",
   "pygments_lexer": "ipython3",
   "version": "3.11.7"
  }
 },
 "nbformat": 4,
 "nbformat_minor": 5
}
