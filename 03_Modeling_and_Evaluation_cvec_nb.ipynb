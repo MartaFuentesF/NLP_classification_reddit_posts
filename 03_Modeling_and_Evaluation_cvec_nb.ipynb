{
 "cells": [
  {
   "cell_type": "markdown",
   "id": "31ada3c5-3ba8-4096-9d4d-09e3845e4856",
   "metadata": {},
   "source": [
    "## Modeling and Model Evaluation: Using `Pipelines`, `CountVectorizer`, `GridSearchCV`, and `NaïveBayes`.\n",
    "*citation:* GA Lesson 6.04\n",
    "\n",
    "In this analysis, I'll employ a powerful combination of techniques to model and predict text data. First, I'll construct a Pipeline and leverage GridSearchCV to fine-tune the parameters of CountVectorizer, a transformer from sklearn library. Following this, the Pipeline will utilize MultiNomialNB to build a predictive model.\n",
    "\n",
    "Moreover, to enhance the quality of my analysis, I'll implement a custom preprocessor within CountVectorizer to effectively remove URLs and emojis from the post data. \n",
    "\n",
    "It's important to note that NaïveBayes makes the assumption that all features are independent of one another. However, this assumption doesn't hold true for text data, where combinations of words can significantly alter the meaning of the text.\n",
    "\n",
    "To evaluate the performance of the model comprehensively, I'll analyze various metrics, including a Confusion Matrix and accuracy scores. These metrics will provide valuable insights into the model's effectiveness in classifying text data accurately."
   ]
  },
  {
   "cell_type": "markdown",
   "id": "1c5035f0-8903-4001-b492-caada275798a",
   "metadata": {},
   "source": [
    "#### Importing libraries, reading in data, and binarizing the target variable"
   ]
  },
  {
   "cell_type": "code",
   "execution_count": 25,
   "id": "ac0966b6-6333-407e-b964-16f46fd9b4b6",
   "metadata": {},
   "outputs": [],
   "source": [
    "# imports\n",
    "import pandas as pd\n",
    "import matplotlib.pyplot as plt\n",
    "from sklearn.model_selection import train_test_split, GridSearchCV\n",
    "from sklearn.pipeline import Pipeline\n",
    "from sklearn.naive_bayes import MultinomialNB\n",
    "from sklearn.linear_model import LogisticRegression\n",
    "from sklearn.metrics import confusion_matrix, ConfusionMatrixDisplay, RocCurveDisplay\n",
    "import re\n",
    "from sklearn import metrics\n",
    "\n",
    "# Import CountVectorizer and TFIDFVectorizer from feature_extraction.text.\n",
    "from sklearn.feature_extraction.text import CountVectorizer, TfidfVectorizer"
   ]
  },
  {
   "cell_type": "code",
   "execution_count": 26,
   "id": "934e7123-fa34-4f47-a4c1-7e6f8f7a6dbe",
   "metadata": {},
   "outputs": [],
   "source": [
    "# Reading in data\n",
    "df = pd.read_csv('./Data/clean_posts')"
   ]
  },
  {
   "cell_type": "code",
   "execution_count": 27,
   "id": "5e034276-9d81-4abe-be1c-829c5bd3f5fa",
   "metadata": {},
   "outputs": [],
   "source": [
    "# Binarizing the target variable\n",
    "df['source'] = df['source'].map({'AmItheAsshole': 1, 'AskLawyers' : 0})"
   ]
  },
  {
   "cell_type": "markdown",
   "id": "ed7e9383-8179-440a-996e-9b511af78aff",
   "metadata": {},
   "source": [
    "---\n",
    "#### Defining my custom pre-processor."
   ]
  },
  {
   "cell_type": "code",
   "execution_count": 28,
   "id": "ee04e349-fb68-4e57-90d8-509a0f3b4542",
   "metadata": {},
   "outputs": [],
   "source": [
    "def remove_urls_emojis(post):\n",
    "    # remove URLs\n",
    "    url_exp = re.compile(r'https?://\\S+|www\\.\\S+') #find URLs\n",
    "    post = url_exp.sub('', post) #replace w/ an empty string\n",
    "\n",
    "    # remove Emojis\n",
    "    emoji_exp = re.compile('['\n",
    "        u'\\U0001F300-\\U0001F5FF'\n",
    "        u'\\U0001F600-\\U0001F64F'\n",
    "        u'\\U0001F680-\\U0001F6FF'\n",
    "        u'\\U0001F700-\\U0001F77F'\n",
    "        u'\\U0001F780-\\U0001F7FF'\n",
    "        u'\\U0001F800-\\U0001F8FF'\n",
    "        u'\\U0001F900-\\U0001F9FF'\n",
    "        u'\\U0001FA00-\\U0001FA6F'\n",
    "        u'\\U0001FA70-\\U0001FAFF'\n",
    "        u'\\U00002702-\\U000027B0'\n",
    "        u'\\U000024C2-\\U0001F251'\n",
    "        ']+',\n",
    "        flags=re.UNICODE)\n",
    "    post = emoji_exp.sub('', post)\n",
    "    \n",
    "    # remove special characters\n",
    "    post = re.sub(r'[^a-zA-Z0-9\\s]', '', post)\n",
    "    \n",
    "    return post"
   ]
  },
  {
   "cell_type": "markdown",
   "id": "5bf115f4-1612-4936-b474-d3c58e4e5c3f",
   "metadata": {},
   "source": [
    "---\n",
    "#### Declaring a feature matrix, X, and target variable, y.\n",
    "Then splitting the data frame in to training data & testing data.\n"
   ]
  },
  {
   "cell_type": "code",
   "execution_count": 29,
   "id": "e7c9147c-e9c2-446e-9102-0a29ae153dce",
   "metadata": {},
   "outputs": [],
   "source": [
    "# variables\n",
    "X = df['post']\n",
    "y = df['source']\n",
    "\n",
    "# Splitting the data into training and testing sets.\n",
    "X_train, X_test, y_train, y_test = train_test_split(X, y,\n",
    "                                                    test_size=0.33,\n",
    "                                                    stratify=y,\n",
    "                                                    random_state=42)"
   ]
  },
  {
   "cell_type": "markdown",
   "id": "039fc19b-67ee-4618-a349-8ac6479577d1",
   "metadata": {},
   "source": [
    "---\n",
    "#### Baseline Accuracy\n",
    "Determining the baseline accuracy to determine if my model is better than null model (predicting the plurality class)"
   ]
  },
  {
   "cell_type": "code",
   "execution_count": 30,
   "id": "9235cd69-a1b6-42d8-b06b-1f83c9af9f57",
   "metadata": {},
   "outputs": [
    {
     "data": {
      "text/plain": [
       "source\n",
       "1    0.719944\n",
       "0    0.280056\n",
       "Name: proportion, dtype: float64"
      ]
     },
     "execution_count": 30,
     "metadata": {},
     "output_type": "execute_result"
    }
   ],
   "source": [
    "baseline =y_train.value_counts(normalize = True)\n",
    "baseline"
   ]
  },
  {
   "cell_type": "markdown",
   "id": "cbed8c10-908e-4ba7-ada3-6b951799437a",
   "metadata": {},
   "source": [
    "**Interpretation:** if we predict the post came from AITA, we'll be right ~72% of the time."
   ]
  },
  {
   "cell_type": "markdown",
   "id": "c8a90646-a578-46ca-8cd1-f3b7e1c615da",
   "metadata": {},
   "source": [
    "---\n",
    "#### Setting a 2 stage `Pipeline`"
   ]
  },
  {
   "cell_type": "code",
   "execution_count": 31,
   "id": "ce4e7221-dd32-4217-af55-5ed361e43479",
   "metadata": {},
   "outputs": [],
   "source": [
    "# Declaring a Pipeline, and introducing my preprocessing function.\n",
    "pipe = Pipeline([\n",
    "    ('cvec', CountVectorizer(preprocessor = remove_urls_emojis)), \n",
    "    ('nb', MultinomialNB()) \n",
    "    \n",
    "])"
   ]
  },
  {
   "cell_type": "markdown",
   "id": "25490c2a-634c-47b4-8a31-8f04beafc3d7",
   "metadata": {},
   "source": [
    "---\n",
    "#### GridSearchCV\n",
    "Since I want to tune over the `CountVectorizer`, I will load the `Pipeline` object into `GridSearchCV`."
   ]
  },
  {
   "cell_type": "code",
   "execution_count": 32,
   "id": "d2748d02-725d-4e7c-b818-d5e68e98e509",
   "metadata": {},
   "outputs": [],
   "source": [
    "# Search over the following values of hyperparameters:\n",
    "# Maximum number of features fit\n",
    "# Minimum number of documents needed to include token\n",
    "# Maximum number of documents needed to include token\n",
    "# Check (individual tokens), bigrams and trigrams.\n",
    "\n",
    "pipe_params = pipe_params = {'cvec__max_features': [3000, 4000, 5000], \n",
    "               'cvec__min_df': [2, 4, 6], \n",
    "               'cvec__max_df': [0.95, 0.97, 0.99],\n",
    "               'cvec__ngram_range': [(1, 1), (1,2), (1,3)] \n",
    "                 }"
   ]
  },
  {
   "cell_type": "code",
   "execution_count": 33,
   "id": "144e7a3d-f2f0-4b95-9d59-9e4757016d7f",
   "metadata": {},
   "outputs": [],
   "source": [
    "# Instantiate GridSearchCV.\n",
    "\n",
    "gs = GridSearchCV(pipe, # object are we optimizing\n",
    "                  pipe_params, # parameters values are we searching\n",
    "                  #preprocessor = remove_urls_emojis, # custom pre-processor\n",
    "                  cv = 5, # 5-fold cross-validation\n",
    "                  n_jobs = -1) "
   ]
  },
  {
   "cell_type": "markdown",
   "id": "3f527aea-af83-4daa-925c-72fcaa246b80",
   "metadata": {},
   "source": [
    "**Note:** The GridSearch parameters mean the code will be fitting 135 models (3\\*3*3\\*5) models. Which will take time and computing power"
   ]
  },
  {
   "cell_type": "markdown",
   "id": "81b2c8f2-1f1b-49f3-9163-240bd711475f",
   "metadata": {},
   "source": [
    "---\n",
    "#### Fitting `GridSearchCV` to training data, and determinging best scores for training a testing data. "
   ]
  },
  {
   "cell_type": "code",
   "execution_count": 34,
   "id": "13a62d41-0fb8-440c-b5e1-b08177666330",
   "metadata": {},
   "outputs": [
    {
     "data": {
      "text/html": [
       "<style>#sk-container-id-2 {color: black;background-color: white;}#sk-container-id-2 pre{padding: 0;}#sk-container-id-2 div.sk-toggleable {background-color: white;}#sk-container-id-2 label.sk-toggleable__label {cursor: pointer;display: block;width: 100%;margin-bottom: 0;padding: 0.3em;box-sizing: border-box;text-align: center;}#sk-container-id-2 label.sk-toggleable__label-arrow:before {content: \"▸\";float: left;margin-right: 0.25em;color: #696969;}#sk-container-id-2 label.sk-toggleable__label-arrow:hover:before {color: black;}#sk-container-id-2 div.sk-estimator:hover label.sk-toggleable__label-arrow:before {color: black;}#sk-container-id-2 div.sk-toggleable__content {max-height: 0;max-width: 0;overflow: hidden;text-align: left;background-color: #f0f8ff;}#sk-container-id-2 div.sk-toggleable__content pre {margin: 0.2em;color: black;border-radius: 0.25em;background-color: #f0f8ff;}#sk-container-id-2 input.sk-toggleable__control:checked~div.sk-toggleable__content {max-height: 200px;max-width: 100%;overflow: auto;}#sk-container-id-2 input.sk-toggleable__control:checked~label.sk-toggleable__label-arrow:before {content: \"▾\";}#sk-container-id-2 div.sk-estimator input.sk-toggleable__control:checked~label.sk-toggleable__label {background-color: #d4ebff;}#sk-container-id-2 div.sk-label input.sk-toggleable__control:checked~label.sk-toggleable__label {background-color: #d4ebff;}#sk-container-id-2 input.sk-hidden--visually {border: 0;clip: rect(1px 1px 1px 1px);clip: rect(1px, 1px, 1px, 1px);height: 1px;margin: -1px;overflow: hidden;padding: 0;position: absolute;width: 1px;}#sk-container-id-2 div.sk-estimator {font-family: monospace;background-color: #f0f8ff;border: 1px dotted black;border-radius: 0.25em;box-sizing: border-box;margin-bottom: 0.5em;}#sk-container-id-2 div.sk-estimator:hover {background-color: #d4ebff;}#sk-container-id-2 div.sk-parallel-item::after {content: \"\";width: 100%;border-bottom: 1px solid gray;flex-grow: 1;}#sk-container-id-2 div.sk-label:hover label.sk-toggleable__label {background-color: #d4ebff;}#sk-container-id-2 div.sk-serial::before {content: \"\";position: absolute;border-left: 1px solid gray;box-sizing: border-box;top: 0;bottom: 0;left: 50%;z-index: 0;}#sk-container-id-2 div.sk-serial {display: flex;flex-direction: column;align-items: center;background-color: white;padding-right: 0.2em;padding-left: 0.2em;position: relative;}#sk-container-id-2 div.sk-item {position: relative;z-index: 1;}#sk-container-id-2 div.sk-parallel {display: flex;align-items: stretch;justify-content: center;background-color: white;position: relative;}#sk-container-id-2 div.sk-item::before, #sk-container-id-2 div.sk-parallel-item::before {content: \"\";position: absolute;border-left: 1px solid gray;box-sizing: border-box;top: 0;bottom: 0;left: 50%;z-index: -1;}#sk-container-id-2 div.sk-parallel-item {display: flex;flex-direction: column;z-index: 1;position: relative;background-color: white;}#sk-container-id-2 div.sk-parallel-item:first-child::after {align-self: flex-end;width: 50%;}#sk-container-id-2 div.sk-parallel-item:last-child::after {align-self: flex-start;width: 50%;}#sk-container-id-2 div.sk-parallel-item:only-child::after {width: 0;}#sk-container-id-2 div.sk-dashed-wrapped {border: 1px dashed gray;margin: 0 0.4em 0.5em 0.4em;box-sizing: border-box;padding-bottom: 0.4em;background-color: white;}#sk-container-id-2 div.sk-label label {font-family: monospace;font-weight: bold;display: inline-block;line-height: 1.2em;}#sk-container-id-2 div.sk-label-container {text-align: center;}#sk-container-id-2 div.sk-container {/* jupyter's `normalize.less` sets `[hidden] { display: none; }` but bootstrap.min.css set `[hidden] { display: none !important; }` so we also need the `!important` here to be able to override the default hidden behavior on the sphinx rendered scikit-learn.org. See: https://github.com/scikit-learn/scikit-learn/issues/21755 */display: inline-block !important;position: relative;}#sk-container-id-2 div.sk-text-repr-fallback {display: none;}</style><div id=\"sk-container-id-2\" class=\"sk-top-container\"><div class=\"sk-text-repr-fallback\"><pre>GridSearchCV(cv=5,\n",
       "             estimator=Pipeline(steps=[(&#x27;cvec&#x27;,\n",
       "                                        CountVectorizer(preprocessor=&lt;function remove_urls_emojis at 0x31626d800&gt;)),\n",
       "                                       (&#x27;nb&#x27;, MultinomialNB())]),\n",
       "             n_jobs=-1,\n",
       "             param_grid={&#x27;cvec__max_df&#x27;: [0.95, 0.97, 0.99],\n",
       "                         &#x27;cvec__max_features&#x27;: [3000, 4000, 5000],\n",
       "                         &#x27;cvec__min_df&#x27;: [2, 4, 6],\n",
       "                         &#x27;cvec__ngram_range&#x27;: [(1, 1), (1, 2), (1, 3)]})</pre><b>In a Jupyter environment, please rerun this cell to show the HTML representation or trust the notebook. <br />On GitHub, the HTML representation is unable to render, please try loading this page with nbviewer.org.</b></div><div class=\"sk-container\" hidden><div class=\"sk-item sk-dashed-wrapped\"><div class=\"sk-label-container\"><div class=\"sk-label sk-toggleable\"><input class=\"sk-toggleable__control sk-hidden--visually\" id=\"sk-estimator-id-5\" type=\"checkbox\" ><label for=\"sk-estimator-id-5\" class=\"sk-toggleable__label sk-toggleable__label-arrow\">GridSearchCV</label><div class=\"sk-toggleable__content\"><pre>GridSearchCV(cv=5,\n",
       "             estimator=Pipeline(steps=[(&#x27;cvec&#x27;,\n",
       "                                        CountVectorizer(preprocessor=&lt;function remove_urls_emojis at 0x31626d800&gt;)),\n",
       "                                       (&#x27;nb&#x27;, MultinomialNB())]),\n",
       "             n_jobs=-1,\n",
       "             param_grid={&#x27;cvec__max_df&#x27;: [0.95, 0.97, 0.99],\n",
       "                         &#x27;cvec__max_features&#x27;: [3000, 4000, 5000],\n",
       "                         &#x27;cvec__min_df&#x27;: [2, 4, 6],\n",
       "                         &#x27;cvec__ngram_range&#x27;: [(1, 1), (1, 2), (1, 3)]})</pre></div></div></div><div class=\"sk-parallel\"><div class=\"sk-parallel-item\"><div class=\"sk-item\"><div class=\"sk-label-container\"><div class=\"sk-label sk-toggleable\"><input class=\"sk-toggleable__control sk-hidden--visually\" id=\"sk-estimator-id-6\" type=\"checkbox\" ><label for=\"sk-estimator-id-6\" class=\"sk-toggleable__label sk-toggleable__label-arrow\">estimator: Pipeline</label><div class=\"sk-toggleable__content\"><pre>Pipeline(steps=[(&#x27;cvec&#x27;,\n",
       "                 CountVectorizer(preprocessor=&lt;function remove_urls_emojis at 0x31626d800&gt;)),\n",
       "                (&#x27;nb&#x27;, MultinomialNB())])</pre></div></div></div><div class=\"sk-serial\"><div class=\"sk-item\"><div class=\"sk-serial\"><div class=\"sk-item\"><div class=\"sk-estimator sk-toggleable\"><input class=\"sk-toggleable__control sk-hidden--visually\" id=\"sk-estimator-id-7\" type=\"checkbox\" ><label for=\"sk-estimator-id-7\" class=\"sk-toggleable__label sk-toggleable__label-arrow\">CountVectorizer</label><div class=\"sk-toggleable__content\"><pre>CountVectorizer(preprocessor=&lt;function remove_urls_emojis at 0x31626d800&gt;)</pre></div></div></div><div class=\"sk-item\"><div class=\"sk-estimator sk-toggleable\"><input class=\"sk-toggleable__control sk-hidden--visually\" id=\"sk-estimator-id-8\" type=\"checkbox\" ><label for=\"sk-estimator-id-8\" class=\"sk-toggleable__label sk-toggleable__label-arrow\">MultinomialNB</label><div class=\"sk-toggleable__content\"><pre>MultinomialNB()</pre></div></div></div></div></div></div></div></div></div></div></div></div>"
      ],
      "text/plain": [
       "GridSearchCV(cv=5,\n",
       "             estimator=Pipeline(steps=[('cvec',\n",
       "                                        CountVectorizer(preprocessor=<function remove_urls_emojis at 0x31626d800>)),\n",
       "                                       ('nb', MultinomialNB())]),\n",
       "             n_jobs=-1,\n",
       "             param_grid={'cvec__max_df': [0.95, 0.97, 0.99],\n",
       "                         'cvec__max_features': [3000, 4000, 5000],\n",
       "                         'cvec__min_df': [2, 4, 6],\n",
       "                         'cvec__ngram_range': [(1, 1), (1, 2), (1, 3)]})"
      ]
     },
     "execution_count": 34,
     "metadata": {},
     "output_type": "execute_result"
    }
   ],
   "source": [
    "# Fit GridSearch to training data.\n",
    "gs.fit(X_train, y_train)"
   ]
  },
  {
   "cell_type": "markdown",
   "id": "93efc8e0-2d26-4c0c-b8e9-fe5167f7f5af",
   "metadata": {},
   "source": [
    "What are the best scores and parameters `CountVectorizer` found?"
   ]
  },
  {
   "cell_type": "code",
   "execution_count": 35,
   "id": "51d0b588-c6ae-44c8-84bf-c17e162bd5d5",
   "metadata": {},
   "outputs": [
    {
     "name": "stdout",
     "output_type": "stream",
     "text": [
      "\u001b[1mBaseline Accuracy Score:\u001b[1m source\n",
      "1    0.719944\n",
      "0    0.280056\n",
      "Name: proportion, dtype: float64 \n",
      "\n",
      "\u001b[1mBest Accuracy Score on cross validation:\u001b[0m 0.9645639759969029 \n",
      "\n",
      "\u001b[1mBest Accuracy Score on training data:\u001b[0m 0.9798471160528145 \n",
      "\n",
      "\u001b[1mBest Accuracy Score on testing data:\u001b[0m 0.9507042253521126 \n",
      "\n",
      "\u001b[1mBest Parameters found by GridSearchCV:\u001b[0m \n",
      " {'cvec__max_df': 0.95, 'cvec__max_features': 5000, 'cvec__min_df': 4, 'cvec__ngram_range': (1, 1)}\n"
     ]
    }
   ],
   "source": [
    "print('\\033[1mBaseline Accuracy Score:\\033[1m', baseline, '\\n')\n",
    "print('\\033[1mBest Accuracy Score on cross validation:\\033[0m', gs.best_score_, '\\n')\n",
    "print('\\033[1mBest Accuracy Score on training data:\\033[0m', gs.score(X_train, y_train), '\\n')\n",
    "print('\\033[1mBest Accuracy Score on testing data:\\033[0m', gs.score(X_test, y_test), '\\n')\n",
    "print('\\033[1mBest Parameters found by GridSearchCV:\\033[0m', '\\n', gs.best_params_)"
   ]
  },
  {
   "cell_type": "markdown",
   "id": "65a53724-f256-4777-9725-ce31754e35c8",
   "metadata": {},
   "source": [
    "**Interpretation & notes:**\n",
    "* The model demonstrates a considerable improvement over the baseline accuracy, indicating its effectiveness in classification tasks.\n",
    "* A slight difference between the accuracy scores of the training and testing datasets suggests some level of overfitting. However, this discrepancy is minimal, suggesting that the model generalizes reasonably well to unseen data.\n",
    "* While accuracy is a valuable metric for assessing model performance, it should not be considered in isolation. Additional metrics such as precision, recall, and F1-score provide deeper insights into the model's predictive capabilities.\n",
    "\n",
    "Below, I'll present key metrics including true positives, false positives, true negatives, and false negatives. These metrics are essential for a comprehensive evaluation of the model's performance. Additionally, I will analize the model's performance using an ROC and AUC. "
   ]
  },
  {
   "cell_type": "markdown",
   "id": "2ace1868-0b87-4d59-a4c2-fdabf21f6dd0",
   "metadata": {},
   "source": [
    "#### Evaluating the model using a Confusion Matrix"
   ]
  },
  {
   "cell_type": "code",
   "execution_count": 36,
   "id": "03f1838a-6c95-4210-ba03-4557162faf32",
   "metadata": {},
   "outputs": [],
   "source": [
    "# Get predictions\n",
    "preds = gs.predict(X_test)\n",
    "\n",
    "# Save confusion matrix values\n",
    "tn, fp, fn, tp = confusion_matrix(y_test, preds).ravel()"
   ]
  },
  {
   "cell_type": "code",
   "execution_count": 37,
   "id": "12676cd2-0cf9-4c3f-9682-7734901e4d51",
   "metadata": {},
   "outputs": [
    {
     "data": {
      "image/png": "[encoded data removed]",
      "text/plain": [
       "<Figure size 640x480 with 2 Axes>"
      ]
     },
     "metadata": {},
     "output_type": "display_data"
    }
   ],
   "source": [
    "# View confusion matrix\n",
    "disp = ConfusionMatrixDisplay(confusion_matrix=confusion_matrix(y_test, preds),\n",
    "                             display_labels=gs.classes_)\n",
    "disp.plot();\n",
    "\n",
    "# Saving Figure to Images folder\n",
    "plt.savefig('./Images/conf_matrix_cvec_mnnb')"
   ]
  },
  {
   "cell_type": "markdown",
   "id": "f1c84e38-169d-4db3-a454-a91d11df823b",
   "metadata": {},
   "source": [
    "**Calculating Metrics other than accuracy**"
   ]
  },
  {
   "cell_type": "code",
   "execution_count": 38,
   "id": "cb403236-f9ca-4bec-9d51-1e2f3f6a8452",
   "metadata": {},
   "outputs": [
    {
     "name": "stdout",
     "output_type": "stream",
     "text": [
      "Specificity Score:  0.8894472361809045\n",
      "Recall Score:  0.974559686888454\n",
      "Precision Score:  0.9576923076923077\n",
      "F1 Score:  0.9660523763336566\n"
     ]
    }
   ],
   "source": [
    "specificity =  tn / (tn + fp)\n",
    "print('Specificity Score: ', specificity)\n",
    "print('Recall Score: ', metrics.recall_score(y_test, preds))\n",
    "print('Precision Score: ', metrics.precision_score(y_test, preds))\n",
    "print('F1 Score: ', metrics.f1_score(y_test, preds))"
   ]
  },
  {
   "cell_type": "markdown",
   "id": "60e88b90-8351-4447-ab2d-733d52b03a69",
   "metadata": {},
   "source": [
    "| Metric                      | Score                |\n",
    "|-----------------------------|----------------------|\n",
    "| Specificity                 | 0.8894472361809045  |\n",
    "| Sensitivity (Recall)        | 0.974559686888454   |\n",
    "| Precision                   | 0.9576923076923077  |\n",
    "| F1 Score                    | 0.9660523763336566  |\n"
   ]
  },
  {
   "cell_type": "markdown",
   "id": "9c343992-c11a-4fc1-85ac-e43beefb8b8d",
   "metadata": {},
   "source": [
    "**Interpretation of the calculated metrics:**\n",
    "\n",
    "*citation:* [towardsdatascience.com]('https://towardsdatascience.com/accuracy-precision-recall-or-f1-331fb37c5cb9')\n",
    "\n",
    "* **Recall,** also known as sensitivity or true positive rate, represents the proportion of correctly predicted posts from a specific source out of all the posts that were from that source. A high recall score means we have minimized the number of false negatives. The model's recall score of 0.945 means the model correctly identifies the percentage of the posts that were truly from source 0.\n",
    "\n",
    "\n",
    "* **Precision** is a good measure to determine, when the costs of False Positive is high. A high precision score indicates that when the model predicts a post to be from source 1, it is usually correct.\n",
    "  \n",
    "* **F1 scores**, also known as the harmonic mean, are a particularly helpful metric as they are a function of both recall and precision. A high F1 score tells us the model has high precision and high recall. This means the model is identifying the source correctly and minimizing misclassifications.\n",
    "\n",
    "* **Specificity** represents the ability of the model to correctly identify posts from source 1 as being from source 1, relative to all the actual posts that are from source 1. A high specificity score indicates that the model has a strong ability to correctly identify posts from source 1, without mistakenly classifying too many posts from source 0 as being from source 1. This metric is particularly important when the cost of misclassifying posts from source 1 as source 0 is high.\n",
    "  \n",
    "\n",
    "\n",
    "\n",
    "\n"
   ]
  },
  {
   "cell_type": "markdown",
   "id": "d9594733-251b-4c8a-90bf-df701724739d",
   "metadata": {},
   "source": [
    "#### ROC curve and AUC\n",
    "*citation:* [medium.com]('https://medium.com/@shaileydash/understanding-the-roc-and-auc-intuitively-31ca96445c02')"
   ]
  },
  {
   "cell_type": "code",
   "execution_count": 39,
   "id": "f1515961-a01b-4a78-89e6-3621ca193257",
   "metadata": {},
   "outputs": [
    {
     "data": {
      "image/png": "[encoded data removed]",
      "text/plain": [
       "<Figure size 640x480 with 1 Axes>"
      ]
     },
     "metadata": {},
     "output_type": "display_data"
    }
   ],
   "source": [
    "RocCurveDisplay.from_estimator(gs, X_test, y_test);\n",
    "\n",
    "plt.title('ROC and AUC for CVectorizer + MultinomialNB Model')\n",
    "plt.plot([1,0], [1,0], linestyle = '--')\n",
    "\n",
    "# Saving Figure to Images folder\n",
    "plt.savefig('./Images/roc_auc_cvec_mnnb')"
   ]
  },
  {
   "cell_type": "markdown",
   "id": "8bbb4d21-9458-4a97-9fd8-54df0650c97f",
   "metadata": {},
   "source": [
    "**Interpretation & notes on ROC & AUC**\n",
    "\n",
    "The ROC curve (Receiver Operating Characteristic curve) provides a visual insight into how well a binary classification model performs. Often considered the gold-standard.\n",
    "\n",
    "An AUC (Area Under the Curve) of 0.99 indicates that the model effectively distinguishes posts from the target source. Ideally, a perfect AUC score of 1.0 would form an ROC curve with a 90° angle at the top left, signifying flawless performance.\n",
    "\n",
    "The gold, dashed line is added to the graph to show the lowest performance a model could have when measured using this tool.\n",
    "\n",
    "The model maintains a low false positive rate, meaning it rarely misclassifies posts from other sources as originating from the target source."
   ]
  },
  {
   "cell_type": "code",
   "execution_count": null,
   "id": "0df8a73d-3801-4ee2-9669-dd7d632bd92c",
   "metadata": {},
   "outputs": [],
   "source": []
  }
 ],
 "metadata": {
  "kernelspec": {
   "display_name": "Python 3 (ipykernel)",
   "language": "python",
   "name": "python3"
  },
  "language_info": {
   "codemirror_mode": {
    "name": "ipython",
    "version": 3
   },
   "file_extension": ".py",
   "mimetype": "text/x-python",
   "name": "python",
   "nbconvert_exporter": "python",
   "pygments_lexer": "ipython3",
   "version": "3.11.7"
  }
 },
 "nbformat": 4,
 "nbformat_minor": 5
}
